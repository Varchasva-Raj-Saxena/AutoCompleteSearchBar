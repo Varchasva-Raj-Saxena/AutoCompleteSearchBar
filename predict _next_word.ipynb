{
  "cells": [
    {
      "cell_type": "markdown",
      "metadata": {
        "id": "PMAA9n7QiPWE"
      },
      "source": [
        "This script installs the Natural Language Toolkit (NLTK), a Python library used for natural language processing tasks such as tokenization, tagging, and text prediction."
      ]
    },
    {
      "cell_type": "code",
      "execution_count": 111,
      "metadata": {
        "colab": {
          "base_uri": "https://localhost:8080/"
        },
        "id": "dk5TXlIvyGfu",
        "outputId": "f33c1d06-4dd1-4151-87bf-2aa1e5b90314"
      },
      "outputs": [
        {
          "name": "stdout",
          "output_type": "stream",
          "text": [
            "Requirement already satisfied: nltk in /usr/local/lib/python3.11/dist-packages (3.9.1)\n",
            "Requirement already satisfied: click in /usr/local/lib/python3.11/dist-packages (from nltk) (8.1.8)\n",
            "Requirement already satisfied: joblib in /usr/local/lib/python3.11/dist-packages (from nltk) (1.4.2)\n",
            "Requirement already satisfied: regex>=2021.8.3 in /usr/local/lib/python3.11/dist-packages (from nltk) (2024.11.6)\n",
            "Requirement already satisfied: tqdm in /usr/local/lib/python3.11/dist-packages (from nltk) (4.67.1)\n"
          ]
        }
      ],
      "source": [
        "!pip install nltk"
      ]
    },
    {
      "cell_type": "code",
      "execution_count": 45,
      "metadata": {},
      "outputs": [
        {
          "name": "stdout",
          "output_type": "stream",
          "text": [
            "3424 clean words written to 'output_words.txt'\n"
          ]
        },
        {
          "name": "stderr",
          "output_type": "stream",
          "text": [
            "[nltk_data] Downloading package punkt to\n",
            "[nltk_data]     C:\\Users\\varchasva\\AppData\\Roaming\\nltk_data...\n",
            "[nltk_data]   Package punkt is already up-to-date!\n"
          ]
        }
      ],
      "source": [
        "import nltk\n",
        "from nltk.tokenize import word_tokenize\n",
        "import string\n",
        "\n",
        "# Download tokenizer models if not already present\n",
        "nltk.download('punkt')\n",
        "\n",
        "# Step 1: Read the input file\n",
        "with open(\"cricket.txt\", \"r\", encoding=\"utf-8\") as file:\n",
        "    text = file.read()\n",
        "\n",
        "# Step 2: Tokenize and filter only alphabetic words\n",
        "tokens = word_tokenize(text)\n",
        "words = [word.lower() for word in tokens if word.isalpha()]  # Keep only words (no punctuation/numbers)\n",
        "\n",
        "# Step 3: Write each word to a new line\n",
        "with open(\"cricket_words.txt\", \"w\", encoding=\"utf-8\") as output_file:\n",
        "    for word in words:\n",
        "        output_file.write(word + \"\\n\")\n",
        "\n",
        "print(f\"{len(words)} clean words written to 'output_words.txt'\")\n"
      ]
    },
    {
      "cell_type": "markdown",
      "metadata": {
        "id": "9sriRMyiiYAE"
      },
      "source": [
        "This part of script imports necessary libraries for deep learning with PyTorch.\n",
        "\n",
        "Sets up text preprocessing with NLTK, including tokenization and stopword removal."
      ]
    },
    {
      "cell_type": "code",
      "execution_count": 1,
      "metadata": {
        "colab": {
          "base_uri": "https://localhost:8080/"
        },
        "id": "Y0B-6nMxyghb",
        "outputId": "8e80523c-23da-4f52-ce37-1c2dc68ca4bd"
      },
      "outputs": [
        {
          "name": "stderr",
          "output_type": "stream",
          "text": [
            "[nltk_data] Downloading package punkt to\n",
            "[nltk_data]     C:\\Users\\varchasva\\AppData\\Roaming\\nltk_data...\n",
            "[nltk_data]   Package punkt is already up-to-date!\n",
            "[nltk_data] Downloading package stopwords to\n",
            "[nltk_data]     C:\\Users\\varchasva\\AppData\\Roaming\\nltk_data...\n",
            "[nltk_data]   Package stopwords is already up-to-date!\n"
          ]
        },
        {
          "data": {
            "text/plain": [
              "True"
            ]
          },
          "execution_count": 1,
          "metadata": {},
          "output_type": "execute_result"
        }
      ],
      "source": [
        "import torch\n",
        "import torch.nn as nn\n",
        "import torch.optim as optim\n",
        "import numpy as np\n",
        "from collections import Counter\n",
        "from torch.utils.data import DataLoader, TensorDataset\n",
        "import nltk\n",
        "from nltk.corpus import stopwords\n",
        "from nltk.tokenize import word_tokenize\n",
        "nltk.download('punkt')\n",
        "nltk.download('stopwords')"
      ]
    },
    {
      "cell_type": "markdown",
      "metadata": {
        "id": "F6KbvMUPix8v"
      },
      "source": [
        "Here we used the following dataset for training."
      ]
    },
    {
      "cell_type": "code",
      "execution_count": 2,
      "metadata": {
        "id": "QJ4oxnZI0Ayi"
      },
      "outputs": [
        {
          "name": "stderr",
          "output_type": "stream",
          "text": [
            "[nltk_data] Downloading package punkt to\n",
            "[nltk_data]     C:\\Users\\varchasva\\AppData\\Roaming\\nltk_data...\n",
            "[nltk_data]   Package punkt is already up-to-date!\n"
          ]
        }
      ],
      "source": [
        "import re\n",
        "import nltk\n",
        "from nltk.tokenize import sent_tokenize\n",
        "\n",
        "nltk.download('punkt')\n",
        "\n",
        "with open(\"cricket.txt\", \"r\", encoding=\"utf-8\") as f:\n",
        "    document = f.read()\n",
        "\n",
        "# Step 2: Split into sentences\n",
        "sentences = sent_tokenize(document)\n",
        "\n",
        "# Step 3: Clean each sentence\n",
        "cleaned_sentences = []\n",
        "for sentence in sentences:\n",
        "    # Remove non-alphabetic characters (preserve spaces)\n",
        "    sentence = re.sub(r'[^a-zA-Z\\s]', '', sentence)\n",
        "    # Replace multiple spaces with a single space\n",
        "    sentence = re.sub(r'\\s+', ' ', sentence)\n",
        "    # Lowercase and strip\n",
        "    sentence = sentence.strip().lower()\n",
        "    if sentence:  # Skip empty sentences\n",
        "        cleaned_sentences.append(sentence)\n",
        "\n",
        "# Step 4: Join cleaned sentences with newline\n",
        "cleaned_document = '\\n'.join(cleaned_sentences)\n",
        "\n",
        "document= cleaned_document\n",
        "\n"
      ]
    },
    {
      "cell_type": "code",
      "execution_count": 3,
      "metadata": {},
      "outputs": [
        {
          "data": {
            "text/plain": [
              "'the india mens national cricket team also known as men in blue represents india in international cricket\\nit is governed by the board of control for cricket in india and is a full member nation of the international cricket council with test odi and ti status\\nindia are the current holders of the t world cup the champions trophy and the asia cup\\nthe team has played test matches winning losing with draws and tie\\nas of may india is ranked fourth in the icc mens test team rankings with rating points\\nindia have played in two of the three world test championship finals finishing runnersup in and while finishing third in\\ntest rivalries include the bordergavaskar trophy with australia freedom trophy with south africa anthony de mello trophy and pataudi trophy both with england\\nthe team has played odi matches winning losing tying and with ending in a noresult\\nas of may india is ranked first in the icc mens odi team rankings with rating points\\nindia have appeared in the world cup final four times in and and have won the world cup twice in and\\nit was the second team after the west indies to win the world cup and the first to win the competition on home soil after winning it in\\nindia have also won the champions trophy three times in and\\nin addition to that they have also won the odi asia cup seven times in and\\nthe team has played twenty international matches winning losing tying and with ending in a noresult\\nas of may india is ranked first in the icc mens ti team rankings with rating points\\nindia have won the t world cup twice in and\\nthey have also won the t asia cup in and have secured a gold medal at the asian games in\\nhistory see also cricket in india history early history s see also history of cricket in india to the british first brought cricket to india in the early s with the first cricket match played in\\nit was played and adopted by kolis of gujarat who were sea pirates and outlaws who often looted the british ships\\nthe east india company tried to manage the kolis through cricket and were successful in the parsi community in mumbai formed the oriental cricket club the first cricket club to be established by indians\\nafter slow beginnings the europeans eventually invited the parsis to play a match in\\nby the parsis hindus sikhs and muslims of bombay played a quadrangular tournament with the europeans every year\\nin the early s some indians went on to play for the england cricket team\\nsome of these such as ranjitsinhji and duleepsinhji were greatly appreciated by the british and their names went on to be used for the ranji trophy and duleep trophy two major firstclass tournaments in india\\nin an indian mens cricket team captained by bhupinder singh of patiala went on their first official tour of the british isles but only played english county teams and not the england cricket team\\ntest match status see also history of cricket in india from to history of cricket in india from to and history of cricket in india from to india was invited to the international cricket council in and made their debut as a test playing nation in england in led by c k nayudu who was considered the best indian batsman at the time\\nthe oneoff test match between the two sides was played at lords in london\\nthe team was not strong in their batting at this point and went on to lose by runs\\nindia hosted its first mens test cricket series in when england toured india\\nthe visitors won the threetest series with the matches held at bombay now mumbai calcutta now kolkata and madras now chennai\\nthe indian team continued to improve throughout the s and s but did not achieve an international victory during this period\\nin the early s india did not play any mens test cricket due to world war ii\\nthe teams first series as an independent country was in late against don bradmans australia\\nit was also the first test series india played which was not against england\\naustralia mens cricket team won the fivematch series with bradman tormenting the indian bowling in his final australian summer\\nindia subsequently played their first test series at home not against england but against the west indies in\\nwest indies won the five test series\\nindia recorded their first test victory in their th match against england at madras in\\nlater in the same year they won their first test series which was against pakistan\\nthey continued their improvement throughout the early s with a series win against new zealand in\\nhowever they did not win again in the remainder of the decade and lost badly to strong australian and english sides\\non august india lost by an innings in the test to complete the only whitewash ever inflicted by england\\nthe next decade saw indias reputation develop as a team with a strong record at home\\nthey won their first test series against england at home in and also won a home series against new zealand\\nthey managed to draw home series against pakistan and australia and another series against england\\nin this same period india also won its first series outside the subcontinent against new zealand in\\nthe key to indias bowling in the s were the indian spin quartet bishan singh bedi e a s prasanna b s chandrasekhar and srinivasaraghavan venkataraghavan\\nthis period also saw the emergence of two of indias best ever batsmen sunil gavaskar and gundappa viswanath\\nindian pitches have had the tendency to support spin and the spin quartet exploited this to create collapses in opposing batting lineups\\nthese players were responsible for the backtoback series wins in in the west indies and in england under the captaincy of ajit wadekar\\ngavaskar scored runs in the west indian series while dilip sardesais played a big part in their one test win\\noneday cricket and icc cricket world cup success see also history of cricket in india from to the advent of mens one day international odi cricket in created a new dimension in the cricket world\\nhowever india was not considered strong in odis at this point and batsmen such as the captain gavaskar were known for their defensive approach to batting\\nindia began as a weak team in odis and did not qualify for the knockout stage in the first two editions of the cricket world cup\\ngavaskar infamously blocked his way to not out of balls against england in the inaugural cricket world cup india scored just for and lost by runs\\nin contrast india fielded a strong team in test matches and was particularly strong at home where their combination of stylish batsmen and beguiling spinners were at their best\\nindia set a then test record in the third test against the west indies at portofspain in when they chased to win thanks to from viswanath\\nin november the team established another record by scoring for declared against new zealand at kanpur without any individual batsman scoring a century\\nthere were six fifties the highest being by mohinder amarnath\\nthis innings was only the eighth instance in test cricket where all eleven batsmen reached double figures\\nindia performed worse in the cricket world cup failing to win a single match\\nduring the s india developed a more attackminded batting lineup with stroke makers such as the wristy mohammad azharuddin krishnamachari srikanth dilip vengsarkar and allrounders kapil dev and ravi shastri\\non june india won the cricket world cup defeating the favourites and the twotime defending champions west indies in the final at lords owing to a strong bowling performance\\nbowler roger binny was the leading wicket taker of the tournament with scalps\\nin spite of this the team performed poorly in the test arena including consecutive test matches without a victory\\nin india won the inaugral edition of the asia cup and in won the world championship of cricket in australia\\nlate th century see also history of cricket in india from to despite winning major tournaments in the first half of the s india remained a weak test team\\nindias test series victory in against england remained the last test series win by india outside the subcontinent for the next years\\nthe s saw gavaskar and kapil dev indias best allrounder to date at the pinnacle of their careers\\ngavaskar made a test record centuries as he became the first man to reach the run mark\\nkapil dev later became the highest wickettaker in test cricket with wickets\\nthe period was also marked by an unstable leadership with gavaskar and kapil exchanging the captaincy several times\\nindia cohosted the cricket world cup the first instance when the tournament was hosted outside england\\nin the semifinals the india was defeated by england after having defeated them on the same stage four years prior\\nthe addition of sachin tendulkar and anil kumble to the national side in and further improved the team\\nthe following year javagal srinath indias fastest bowler since amar singh made his debut\\nunder azharuddin india played in the cricket world cup failing to make the knockout stage in the tournament for the first time since\\nduring the s india did not win any of its tests outside the subcontinent while it won out of its tests at home\\nnotably india won a hattrick of asia cups in and\\nindia was eliminated by neighbours sri lanka on home soil at the disastrous cricket world cup semifinal where rioters burnt section of the stadium at kolkata after india were set to face a crushing defeat\\ntendulkar was the tournaments leading run scorer with this the first time an indian being one in the tournament and kumble leading the wickettaking charts\\nfollowing the world cup the team underwent a year of change as sourav ganguly and rahul dravid later to become captains of the team made their debut in the same test at lords\\ntendulkar replaced azharuddin as captain in late but after a personal and team form slump tendulkar relinquished the captaincy and azharuddin was reinstated at the beginning of\\nindia lost the final of the asia cup losing the tournament for the first time in editions they had participated in\\nin order to play a bilateral odi series against pakistan india split its squad into two and sent a weak squad to feature in the cricket tournament of the commonwealth games\\nas a result india failed to progress from the group stage\\nin the inaugral edition of the champions trophy in india were knocked out in the semifinals by west indies\\nthe team had yet another disastrous world cup in\\ndespite dravid being the tournaments leading run scorer india failed to reach the knockouts\\nfollowing this tendulkar was again made captain and had another poor run losing on a tour of australia and then at home to south africa\\ntendulkar resigned vowing never to captain the team again\\ncaptaincy changes and dominance on global stage see also history of cricket in india from the team was further damaged in when former captain azharuddin and fellow batsman ajay jadeja were implicated in a matchfixing scandal and given life and fiveyear bans respectively\\nthis period was described by the bbc as the indian crickets worst hour\\nhowever the new core tendulkar dravid kumble and ganguly swore not to let this happen to them again and led indian cricket out of the dark times\\nthe first three put aside personal ambitions to let ganguly lead them into a new era\\nthe indian team underwent major improvements under the captaincy of ganguly and the guidance of john wright indias first foreign coach\\nganguly led india to the final of the champions trophy indias first icc final after the world cup\\ndespite his century india was defeated in the final by new zealand\\nhe was the leading run scorer in the tournament and venkatesh prasad the leading wicket taker\\nin the kolkata test match india became only the third team in the history of test cricket to win a test match after following on\\naustralian captain steve waugh labelled india as the final frontier because of his sides inability to win a test series in india\\nin india took part in the natwest series against england and sri lanka where after topping the table they faced hosts england in the final\\nindia ended up chasing to win what is widely regarded as one of the greatest odi matches of all time winning the series\\non september india and sri lanka were crowned undefeated jointwinners of the champions trophy after the final was rained off following days of play\\nthis was indias first icc title after the world cup and india and sri lanka became the only countries to have won both the tournaments\\nvirender sehwag was the tournaments leading run scorer\\nindia then went to the cricket world cup in south africa where they reached the final indias third consecutive icc final only to be beaten by australia\\ntendulkar the player of the tournament set the record for the most runs scored in a single world cup\\na convincing odi series win in pakistan in early following a loss in the test series gave india the world record of successive odi victories while batting second\\nindia had poor performances at the champions trophies in and and most notably at the cricket world cup under dravids leadership which led to significant changes in the teams structure\\nindia found a new core in players like ms dhoni yuvraj singh harbhajan singh and zaheer khan\\nin dhoni was made captain in limitedovers\\non september india won the inaugral edition of the mens t world cup held in south africa beating pakistan by five runs in the final\\nthis victory was a dominant factor in the introduction of the indian premier league\\ndespite this india failed to reach the knockout stages of the champions trophy and the and editions of the t world cup\\nindia won the asia cup winning the tournament for the first time in fifteen years\\ntendulkar became the first cricketer to score in odis\\non april india won the cricket world cup by defeating sri lanka in the final thus becoming the third team after west indies and australia to win the world cup twice\\nindia also became the first team to win the world cup on home soil\\nthis was tendulkars last of six world cups having equalled javed miandads record of having played in the most editions of the tournament\\nzaheer khan was the jointhighest wicket taker of the tournament\\nsehwag yuvraj and harbhajan became the first set of players to win all three icc whiteball tournaments\\nlater that year sehwag broke tendulkars record of having the highest individual score in odis\\nthe following year the team failed to reach the knockouts for the t world cup for the third time in a row\\non june india won the champions trophy undefeated after overcoming england in the rainaffected final and dhoni became the first captain in history to win all three icc trophies in whiteball cricket namely the cricket world cup t world cup and champions trophy\\nplayer of the tournament shikhar dhawan was the leading run scorer and won the golden bat\\nravindra jadeja won the golden ball for being the highest wickettaker\\nindia now had a strong core with rohit sharma and dhawan as odi openers alongside with virat kohli bowlers ravichandran ashwin mohammed shami bhuvneshwar kumar and all rounder jadeja\\nicc tournament drought in the t world cup hosted in bangladesh india narrowly missed out on another icc trophy by losing to sri lanka in the final\\nplayer of the tournament kohli was the leading run scorer having set the record for most runs scored in a single edition of the tournament\\nin late dhoni stepped down as captain in tests to focus on whiteball cricket paving way for kohli the vicecaptain to succeed him\\nin a match against sri lanka rohit overtook sehwag to become the leading runscorer in an inning in odis being the first player to cross\\nindia was knocked out of the cricket world cup in the semifinal to eventual winners australia\\nwith the inclusion of pacer jasprit bumrah and allrounder hardik pandya in the squad india began by winning the asia cup remaining unbeaten throughout the tournament\\nthe team were favourites to win the t world cup which was being held at home but lost in the semifinal to eventual champions west indies\\nkohli became the first player to be player of the tournament in back to back editions of a major cricket tournament\\nafter dhoni stepped down from whiteball captaincy kohli stepped in as fulltime captain across formats\\nindia lost to arch rivals pakistan in the final of the champions trophy by runs the worst defeat in the final of an icc odi tournament\\ndhawan again won the golden bat after being the leading run scorer becoming the first to win the award twice\\nin india won a test series in australia for the first time in their history under kohli and coach shastri\\nafter winning the asia cup and the nidahas trophy the teams next major global tournament was the cricket world cup where they made the semifinals but lost to new zealand by runs\\nafter dhonis retirement kl rahul took over as wicketkeeper and became a team regular\\nvicecaptain rohit was the highest runscorer of the tournament with runs and set the record for most centuries scored in a tournament\\nfollowing being dismissed for in a test against australia india managed to turnaround and again win a series in australia for the second time\\nindia played the first ever final of the world test championship in against new zealand in which they lost by eight wickets\\nthe team had a disappointing performance at the t world cup failing to reach the knockout stage of an icc tournament for the first time since and also notably losing to rivals pakistan by wickets their first defeat against the team in a world cup match\\nafter this tournament kohli stepped down as captain being succeeded by rohit across formats and dravid replacing shastri as coach\\nthey qualified for the semifinals in the t world cup but lost to england by ten wickets\\nindia played the final of the world test championship against australia in which they lost by runs\\nfollowing these losses rohit notably mentioned to dinesh karthik that something needed to change and he changed to having a more aggressive batting style as well as directing a more targetting batting approach in the team\\nindia went on to win the asia cup by notably dismissing sri lanka for runs in the final and winning by ten wickets\\nindia also secured the gold medal at the asian games held in due to higher seeding after the final against afghanisthan was washed out\\nthey were deemed favourites to win the home cricket world cup\\nrohit broke tendulkars record of the most world cup centuries in the match against afghanistan\\ntendulkar conceded more records to kohli who overtook him to score the most centuries in odi cricket as well as for scoring the most runs in a single edition of the tournament\\nindia was ultimately defeated in the final by australia\\nshami was the leading wicket taker of the tournament\\nresurgence present in january india played the longestever ti in a match against afghanistan which got extended to two rounds of super overs in an eventual indian triumph\\non june india won the t world cup by defeating south africa in the final\\nthey became the third team after england and west indies to win the cup twice and also the first team to win the tournament undefeated\\narshdeep singh was the jointhighest wicket taker at wickets while bumrah became the player of the tournament\\nthis was rohits last of nine t world cups having participated in every edition up until alongside shakib al hasan of bangladesh\\non march india won the champions trophy undefeated\\nthe team defeated new zealand in the final defeating them for the first time at this stage in an icc tournament\\nthis was indias third consecutive final of the tournament as well as fourth consecutive icc final\\nindia became the first team to win the tournament thrice with rohit and kohli being the only indians to win four icc tournaments\\ndespite this india had a poor season of test cricket\\nfollowing the series win against england and bangladesh india lost to new zealand in a home series followed by failing to win a hattrick of a test series in australia\\ndue to these losses india missed out on qualifying for the world test championship final although the team was in a comfortable position to qualify prior to the series thereby failing to reach the final for the first time'"
            ]
          },
          "execution_count": 3,
          "metadata": {},
          "output_type": "execute_result"
        }
      ],
      "source": [
        "document"
      ]
    },
    {
      "cell_type": "markdown",
      "metadata": {
        "id": "WXH1afiGjExH"
      },
      "source": [
        "This script prepares text data for a next-word prediction model using PyTorch, with tokenization and stopword removal handled via NLTK."
      ]
    },
    {
      "cell_type": "code",
      "execution_count": 4,
      "metadata": {
        "colab": {
          "base_uri": "https://localhost:8080/"
        },
        "id": "rnrvkk_e03RD",
        "outputId": "435a2ec4-6cb2-4764-a59b-f9fdc5946cb4"
      },
      "outputs": [
        {
          "name": "stderr",
          "output_type": "stream",
          "text": [
            "[nltk_data] Downloading package punkt to\n",
            "[nltk_data]     C:\\Users\\varchasva\\AppData\\Roaming\\nltk_data...\n",
            "[nltk_data]   Package punkt is already up-to-date!\n",
            "[nltk_data] Downloading package stopwords to\n",
            "[nltk_data]     C:\\Users\\varchasva\\AppData\\Roaming\\nltk_data...\n",
            "[nltk_data]   Package stopwords is already up-to-date!\n",
            "[nltk_data] Downloading package punkt_tab to\n",
            "[nltk_data]     C:\\Users\\varchasva\\AppData\\Roaming\\nltk_data...\n",
            "[nltk_data]   Package punkt_tab is already up-to-date!\n"
          ]
        },
        {
          "data": {
            "text/plain": [
              "True"
            ]
          },
          "execution_count": 4,
          "metadata": {},
          "output_type": "execute_result"
        }
      ],
      "source": [
        "nltk.download('punkt')\n",
        "nltk.download('stopwords')\n",
        "nltk.download('punkt_tab')"
      ]
    },
    {
      "cell_type": "markdown",
      "metadata": {
        "id": "9e7Zhj3ljRue"
      },
      "source": [
        "This script preprocesses a text dataset for next-word prediction by tokenizing the input document and converting it to lowercase using NLTK."
      ]
    },
    {
      "cell_type": "code",
      "execution_count": 5,
      "metadata": {
        "id": "zoPcPe-e0Ut4"
      },
      "outputs": [],
      "source": [
        "tokens = word_tokenize(document.lower())"
      ]
    },
    {
      "cell_type": "code",
      "execution_count": 6,
      "metadata": {
        "colab": {
          "base_uri": "https://localhost:8080/"
        },
        "collapsed": true,
        "id": "8raDM1Uw0rJ1",
        "outputId": "d8fdd86d-2799-4cf3-d5a9-37161a98f86e"
      },
      "outputs": [
        {
          "data": {
            "text/plain": [
              "['the',\n",
              " 'india',\n",
              " 'mens',\n",
              " 'national',\n",
              " 'cricket',\n",
              " 'team',\n",
              " 'also',\n",
              " 'known',\n",
              " 'as',\n",
              " 'men',\n",
              " 'in',\n",
              " 'blue',\n",
              " 'represents',\n",
              " 'india',\n",
              " 'in',\n",
              " 'international',\n",
              " 'cricket',\n",
              " 'it',\n",
              " 'is',\n",
              " 'governed',\n",
              " 'by',\n",
              " 'the',\n",
              " 'board',\n",
              " 'of',\n",
              " 'control',\n",
              " 'for',\n",
              " 'cricket',\n",
              " 'in',\n",
              " 'india',\n",
              " 'and',\n",
              " 'is',\n",
              " 'a',\n",
              " 'full',\n",
              " 'member',\n",
              " 'nation',\n",
              " 'of',\n",
              " 'the',\n",
              " 'international',\n",
              " 'cricket',\n",
              " 'council',\n",
              " 'with',\n",
              " 'test',\n",
              " 'odi',\n",
              " 'and',\n",
              " 'ti',\n",
              " 'status',\n",
              " 'india',\n",
              " 'are',\n",
              " 'the',\n",
              " 'current',\n",
              " 'holders',\n",
              " 'of',\n",
              " 'the',\n",
              " 't',\n",
              " 'world',\n",
              " 'cup',\n",
              " 'the',\n",
              " 'champions',\n",
              " 'trophy',\n",
              " 'and',\n",
              " 'the',\n",
              " 'asia',\n",
              " 'cup',\n",
              " 'the',\n",
              " 'team',\n",
              " 'has',\n",
              " 'played',\n",
              " 'test',\n",
              " 'matches',\n",
              " 'winning',\n",
              " 'losing',\n",
              " 'with',\n",
              " 'draws',\n",
              " 'and',\n",
              " 'tie',\n",
              " 'as',\n",
              " 'of',\n",
              " 'may',\n",
              " 'india',\n",
              " 'is',\n",
              " 'ranked',\n",
              " 'fourth',\n",
              " 'in',\n",
              " 'the',\n",
              " 'icc',\n",
              " 'mens',\n",
              " 'test',\n",
              " 'team',\n",
              " 'rankings',\n",
              " 'with',\n",
              " 'rating',\n",
              " 'points',\n",
              " 'india',\n",
              " 'have',\n",
              " 'played',\n",
              " 'in',\n",
              " 'two',\n",
              " 'of',\n",
              " 'the',\n",
              " 'three',\n",
              " 'world',\n",
              " 'test',\n",
              " 'championship',\n",
              " 'finals',\n",
              " 'finishing',\n",
              " 'runnersup',\n",
              " 'in',\n",
              " 'and',\n",
              " 'while',\n",
              " 'finishing',\n",
              " 'third',\n",
              " 'in',\n",
              " 'test',\n",
              " 'rivalries',\n",
              " 'include',\n",
              " 'the',\n",
              " 'bordergavaskar',\n",
              " 'trophy',\n",
              " 'with',\n",
              " 'australia',\n",
              " 'freedom',\n",
              " 'trophy',\n",
              " 'with',\n",
              " 'south',\n",
              " 'africa',\n",
              " 'anthony',\n",
              " 'de',\n",
              " 'mello',\n",
              " 'trophy',\n",
              " 'and',\n",
              " 'pataudi',\n",
              " 'trophy',\n",
              " 'both',\n",
              " 'with',\n",
              " 'england',\n",
              " 'the',\n",
              " 'team',\n",
              " 'has',\n",
              " 'played',\n",
              " 'odi',\n",
              " 'matches',\n",
              " 'winning',\n",
              " 'losing',\n",
              " 'tying',\n",
              " 'and',\n",
              " 'with',\n",
              " 'ending',\n",
              " 'in',\n",
              " 'a',\n",
              " 'noresult',\n",
              " 'as',\n",
              " 'of',\n",
              " 'may',\n",
              " 'india',\n",
              " 'is',\n",
              " 'ranked',\n",
              " 'first',\n",
              " 'in',\n",
              " 'the',\n",
              " 'icc',\n",
              " 'mens',\n",
              " 'odi',\n",
              " 'team',\n",
              " 'rankings',\n",
              " 'with',\n",
              " 'rating',\n",
              " 'points',\n",
              " 'india',\n",
              " 'have',\n",
              " 'appeared',\n",
              " 'in',\n",
              " 'the',\n",
              " 'world',\n",
              " 'cup',\n",
              " 'final',\n",
              " 'four',\n",
              " 'times',\n",
              " 'in',\n",
              " 'and',\n",
              " 'and',\n",
              " 'have',\n",
              " 'won',\n",
              " 'the',\n",
              " 'world',\n",
              " 'cup',\n",
              " 'twice',\n",
              " 'in',\n",
              " 'and',\n",
              " 'it',\n",
              " 'was',\n",
              " 'the',\n",
              " 'second',\n",
              " 'team',\n",
              " 'after',\n",
              " 'the',\n",
              " 'west',\n",
              " 'indies',\n",
              " 'to',\n",
              " 'win',\n",
              " 'the',\n",
              " 'world',\n",
              " 'cup',\n",
              " 'and',\n",
              " 'the',\n",
              " 'first',\n",
              " 'to',\n",
              " 'win',\n",
              " 'the',\n",
              " 'competition',\n",
              " 'on',\n",
              " 'home',\n",
              " 'soil',\n",
              " 'after',\n",
              " 'winning',\n",
              " 'it',\n",
              " 'in',\n",
              " 'india',\n",
              " 'have',\n",
              " 'also',\n",
              " 'won',\n",
              " 'the',\n",
              " 'champions',\n",
              " 'trophy',\n",
              " 'three',\n",
              " 'times',\n",
              " 'in',\n",
              " 'and',\n",
              " 'in',\n",
              " 'addition',\n",
              " 'to',\n",
              " 'that',\n",
              " 'they',\n",
              " 'have',\n",
              " 'also',\n",
              " 'won',\n",
              " 'the',\n",
              " 'odi',\n",
              " 'asia',\n",
              " 'cup',\n",
              " 'seven',\n",
              " 'times',\n",
              " 'in',\n",
              " 'and',\n",
              " 'the',\n",
              " 'team',\n",
              " 'has',\n",
              " 'played',\n",
              " 'twenty',\n",
              " 'international',\n",
              " 'matches',\n",
              " 'winning',\n",
              " 'losing',\n",
              " 'tying',\n",
              " 'and',\n",
              " 'with',\n",
              " 'ending',\n",
              " 'in',\n",
              " 'a',\n",
              " 'noresult',\n",
              " 'as',\n",
              " 'of',\n",
              " 'may',\n",
              " 'india',\n",
              " 'is',\n",
              " 'ranked',\n",
              " 'first',\n",
              " 'in',\n",
              " 'the',\n",
              " 'icc',\n",
              " 'mens',\n",
              " 'ti',\n",
              " 'team',\n",
              " 'rankings',\n",
              " 'with',\n",
              " 'rating',\n",
              " 'points',\n",
              " 'india',\n",
              " 'have',\n",
              " 'won',\n",
              " 'the',\n",
              " 't',\n",
              " 'world',\n",
              " 'cup',\n",
              " 'twice',\n",
              " 'in',\n",
              " 'and',\n",
              " 'they',\n",
              " 'have',\n",
              " 'also',\n",
              " 'won',\n",
              " 'the',\n",
              " 't',\n",
              " 'asia',\n",
              " 'cup',\n",
              " 'in',\n",
              " 'and',\n",
              " 'have',\n",
              " 'secured',\n",
              " 'a',\n",
              " 'gold',\n",
              " 'medal',\n",
              " 'at',\n",
              " 'the',\n",
              " 'asian',\n",
              " 'games',\n",
              " 'in',\n",
              " 'history',\n",
              " 'see',\n",
              " 'also',\n",
              " 'cricket',\n",
              " 'in',\n",
              " 'india',\n",
              " 'history',\n",
              " 'early',\n",
              " 'history',\n",
              " 's',\n",
              " 'see',\n",
              " 'also',\n",
              " 'history',\n",
              " 'of',\n",
              " 'cricket',\n",
              " 'in',\n",
              " 'india',\n",
              " 'to',\n",
              " 'the',\n",
              " 'british',\n",
              " 'first',\n",
              " 'brought',\n",
              " 'cricket',\n",
              " 'to',\n",
              " 'india',\n",
              " 'in',\n",
              " 'the',\n",
              " 'early',\n",
              " 's',\n",
              " 'with',\n",
              " 'the',\n",
              " 'first',\n",
              " 'cricket',\n",
              " 'match',\n",
              " 'played',\n",
              " 'in',\n",
              " 'it',\n",
              " 'was',\n",
              " 'played',\n",
              " 'and',\n",
              " 'adopted',\n",
              " 'by',\n",
              " 'kolis',\n",
              " 'of',\n",
              " 'gujarat',\n",
              " 'who',\n",
              " 'were',\n",
              " 'sea',\n",
              " 'pirates',\n",
              " 'and',\n",
              " 'outlaws',\n",
              " 'who',\n",
              " 'often',\n",
              " 'looted',\n",
              " 'the',\n",
              " 'british',\n",
              " 'ships',\n",
              " 'the',\n",
              " 'east',\n",
              " 'india',\n",
              " 'company',\n",
              " 'tried',\n",
              " 'to',\n",
              " 'manage',\n",
              " 'the',\n",
              " 'kolis',\n",
              " 'through',\n",
              " 'cricket',\n",
              " 'and',\n",
              " 'were',\n",
              " 'successful',\n",
              " 'in',\n",
              " 'the',\n",
              " 'parsi',\n",
              " 'community',\n",
              " 'in',\n",
              " 'mumbai',\n",
              " 'formed',\n",
              " 'the',\n",
              " 'oriental',\n",
              " 'cricket',\n",
              " 'club',\n",
              " 'the',\n",
              " 'first',\n",
              " 'cricket',\n",
              " 'club',\n",
              " 'to',\n",
              " 'be',\n",
              " 'established',\n",
              " 'by',\n",
              " 'indians',\n",
              " 'after',\n",
              " 'slow',\n",
              " 'beginnings',\n",
              " 'the',\n",
              " 'europeans',\n",
              " 'eventually',\n",
              " 'invited',\n",
              " 'the',\n",
              " 'parsis',\n",
              " 'to',\n",
              " 'play',\n",
              " 'a',\n",
              " 'match',\n",
              " 'in',\n",
              " 'by',\n",
              " 'the',\n",
              " 'parsis',\n",
              " 'hindus',\n",
              " 'sikhs',\n",
              " 'and',\n",
              " 'muslims',\n",
              " 'of',\n",
              " 'bombay',\n",
              " 'played',\n",
              " 'a',\n",
              " 'quadrangular',\n",
              " 'tournament',\n",
              " 'with',\n",
              " 'the',\n",
              " 'europeans',\n",
              " 'every',\n",
              " 'year',\n",
              " 'in',\n",
              " 'the',\n",
              " 'early',\n",
              " 's',\n",
              " 'some',\n",
              " 'indians',\n",
              " 'went',\n",
              " 'on',\n",
              " 'to',\n",
              " 'play',\n",
              " 'for',\n",
              " 'the',\n",
              " 'england',\n",
              " 'cricket',\n",
              " 'team',\n",
              " 'some',\n",
              " 'of',\n",
              " 'these',\n",
              " 'such',\n",
              " 'as',\n",
              " 'ranjitsinhji',\n",
              " 'and',\n",
              " 'duleepsinhji',\n",
              " 'were',\n",
              " 'greatly',\n",
              " 'appreciated',\n",
              " 'by',\n",
              " 'the',\n",
              " 'british',\n",
              " 'and',\n",
              " 'their',\n",
              " 'names',\n",
              " 'went',\n",
              " 'on',\n",
              " 'to',\n",
              " 'be',\n",
              " 'used',\n",
              " 'for',\n",
              " 'the',\n",
              " 'ranji',\n",
              " 'trophy',\n",
              " 'and',\n",
              " 'duleep',\n",
              " 'trophy',\n",
              " 'two',\n",
              " 'major',\n",
              " 'firstclass',\n",
              " 'tournaments',\n",
              " 'in',\n",
              " 'india',\n",
              " 'in',\n",
              " 'an',\n",
              " 'indian',\n",
              " 'mens',\n",
              " 'cricket',\n",
              " 'team',\n",
              " 'captained',\n",
              " 'by',\n",
              " 'bhupinder',\n",
              " 'singh',\n",
              " 'of',\n",
              " 'patiala',\n",
              " 'went',\n",
              " 'on',\n",
              " 'their',\n",
              " 'first',\n",
              " 'official',\n",
              " 'tour',\n",
              " 'of',\n",
              " 'the',\n",
              " 'british',\n",
              " 'isles',\n",
              " 'but',\n",
              " 'only',\n",
              " 'played',\n",
              " 'english',\n",
              " 'county',\n",
              " 'teams',\n",
              " 'and',\n",
              " 'not',\n",
              " 'the',\n",
              " 'england',\n",
              " 'cricket',\n",
              " 'team',\n",
              " 'test',\n",
              " 'match',\n",
              " 'status',\n",
              " 'see',\n",
              " 'also',\n",
              " 'history',\n",
              " 'of',\n",
              " 'cricket',\n",
              " 'in',\n",
              " 'india',\n",
              " 'from',\n",
              " 'to',\n",
              " 'history',\n",
              " 'of',\n",
              " 'cricket',\n",
              " 'in',\n",
              " 'india',\n",
              " 'from',\n",
              " 'to',\n",
              " 'and',\n",
              " 'history',\n",
              " 'of',\n",
              " 'cricket',\n",
              " 'in',\n",
              " 'india',\n",
              " 'from',\n",
              " 'to',\n",
              " 'india',\n",
              " 'was',\n",
              " 'invited',\n",
              " 'to',\n",
              " 'the',\n",
              " 'international',\n",
              " 'cricket',\n",
              " 'council',\n",
              " 'in',\n",
              " 'and',\n",
              " 'made',\n",
              " 'their',\n",
              " 'debut',\n",
              " 'as',\n",
              " 'a',\n",
              " 'test',\n",
              " 'playing',\n",
              " 'nation',\n",
              " 'in',\n",
              " 'england',\n",
              " 'in',\n",
              " 'led',\n",
              " 'by',\n",
              " 'c',\n",
              " 'k',\n",
              " 'nayudu',\n",
              " 'who',\n",
              " 'was',\n",
              " 'considered',\n",
              " 'the',\n",
              " 'best',\n",
              " 'indian',\n",
              " 'batsman',\n",
              " 'at',\n",
              " 'the',\n",
              " 'time',\n",
              " 'the',\n",
              " 'oneoff',\n",
              " 'test',\n",
              " 'match',\n",
              " 'between',\n",
              " 'the',\n",
              " 'two',\n",
              " 'sides',\n",
              " 'was',\n",
              " 'played',\n",
              " 'at',\n",
              " 'lords',\n",
              " 'in',\n",
              " 'london',\n",
              " 'the',\n",
              " 'team',\n",
              " 'was',\n",
              " 'not',\n",
              " 'strong',\n",
              " 'in',\n",
              " 'their',\n",
              " 'batting',\n",
              " 'at',\n",
              " 'this',\n",
              " 'point',\n",
              " 'and',\n",
              " 'went',\n",
              " 'on',\n",
              " 'to',\n",
              " 'lose',\n",
              " 'by',\n",
              " 'runs',\n",
              " 'india',\n",
              " 'hosted',\n",
              " 'its',\n",
              " 'first',\n",
              " 'mens',\n",
              " 'test',\n",
              " 'cricket',\n",
              " 'series',\n",
              " 'in',\n",
              " 'when',\n",
              " 'england',\n",
              " 'toured',\n",
              " 'india',\n",
              " 'the',\n",
              " 'visitors',\n",
              " 'won',\n",
              " 'the',\n",
              " 'threetest',\n",
              " 'series',\n",
              " 'with',\n",
              " 'the',\n",
              " 'matches',\n",
              " 'held',\n",
              " 'at',\n",
              " 'bombay',\n",
              " 'now',\n",
              " 'mumbai',\n",
              " 'calcutta',\n",
              " 'now',\n",
              " 'kolkata',\n",
              " 'and',\n",
              " 'madras',\n",
              " 'now',\n",
              " 'chennai',\n",
              " 'the',\n",
              " 'indian',\n",
              " 'team',\n",
              " 'continued',\n",
              " 'to',\n",
              " 'improve',\n",
              " 'throughout',\n",
              " 'the',\n",
              " 's',\n",
              " 'and',\n",
              " 's',\n",
              " 'but',\n",
              " 'did',\n",
              " 'not',\n",
              " 'achieve',\n",
              " 'an',\n",
              " 'international',\n",
              " 'victory',\n",
              " 'during',\n",
              " 'this',\n",
              " 'period',\n",
              " 'in',\n",
              " 'the',\n",
              " 'early',\n",
              " 's',\n",
              " 'india',\n",
              " 'did',\n",
              " 'not',\n",
              " 'play',\n",
              " 'any',\n",
              " 'mens',\n",
              " 'test',\n",
              " 'cricket',\n",
              " 'due',\n",
              " 'to',\n",
              " 'world',\n",
              " 'war',\n",
              " 'ii',\n",
              " 'the',\n",
              " 'teams',\n",
              " 'first',\n",
              " 'series',\n",
              " 'as',\n",
              " 'an',\n",
              " 'independent',\n",
              " 'country',\n",
              " 'was',\n",
              " 'in',\n",
              " 'late',\n",
              " 'against',\n",
              " 'don',\n",
              " 'bradmans',\n",
              " 'australia',\n",
              " 'it',\n",
              " 'was',\n",
              " 'also',\n",
              " 'the',\n",
              " 'first',\n",
              " 'test',\n",
              " 'series',\n",
              " 'india',\n",
              " 'played',\n",
              " 'which',\n",
              " 'was',\n",
              " 'not',\n",
              " 'against',\n",
              " 'england',\n",
              " 'australia',\n",
              " 'mens',\n",
              " 'cricket',\n",
              " 'team',\n",
              " 'won',\n",
              " 'the',\n",
              " 'fivematch',\n",
              " 'series',\n",
              " 'with',\n",
              " 'bradman',\n",
              " 'tormenting',\n",
              " 'the',\n",
              " 'indian',\n",
              " 'bowling',\n",
              " 'in',\n",
              " 'his',\n",
              " 'final',\n",
              " 'australian',\n",
              " 'summer',\n",
              " 'india',\n",
              " 'subsequently',\n",
              " 'played',\n",
              " 'their',\n",
              " 'first',\n",
              " 'test',\n",
              " 'series',\n",
              " 'at',\n",
              " 'home',\n",
              " 'not',\n",
              " 'against',\n",
              " 'england',\n",
              " 'but',\n",
              " 'against',\n",
              " 'the',\n",
              " 'west',\n",
              " 'indies',\n",
              " 'in',\n",
              " 'west',\n",
              " 'indies',\n",
              " 'won',\n",
              " 'the',\n",
              " 'five',\n",
              " 'test',\n",
              " 'series',\n",
              " 'india',\n",
              " 'recorded',\n",
              " 'their',\n",
              " 'first',\n",
              " 'test',\n",
              " 'victory',\n",
              " 'in',\n",
              " 'their',\n",
              " 'th',\n",
              " 'match',\n",
              " 'against',\n",
              " 'england',\n",
              " 'at',\n",
              " 'madras',\n",
              " 'in',\n",
              " 'later',\n",
              " 'in',\n",
              " 'the',\n",
              " 'same',\n",
              " 'year',\n",
              " 'they',\n",
              " 'won',\n",
              " 'their',\n",
              " 'first',\n",
              " 'test',\n",
              " 'series',\n",
              " 'which',\n",
              " 'was',\n",
              " 'against',\n",
              " 'pakistan',\n",
              " 'they',\n",
              " 'continued',\n",
              " 'their',\n",
              " 'improvement',\n",
              " 'throughout',\n",
              " 'the',\n",
              " 'early',\n",
              " 's',\n",
              " 'with',\n",
              " 'a',\n",
              " 'series',\n",
              " 'win',\n",
              " 'against',\n",
              " 'new',\n",
              " 'zealand',\n",
              " 'in',\n",
              " 'however',\n",
              " 'they',\n",
              " 'did',\n",
              " 'not',\n",
              " 'win',\n",
              " 'again',\n",
              " 'in',\n",
              " 'the',\n",
              " 'remainder',\n",
              " 'of',\n",
              " 'the',\n",
              " 'decade',\n",
              " 'and',\n",
              " 'lost',\n",
              " 'badly',\n",
              " 'to',\n",
              " 'strong',\n",
              " 'australian',\n",
              " 'and',\n",
              " 'english',\n",
              " 'sides',\n",
              " 'on',\n",
              " 'august',\n",
              " 'india',\n",
              " 'lost',\n",
              " 'by',\n",
              " 'an',\n",
              " 'innings',\n",
              " 'in',\n",
              " 'the',\n",
              " 'test',\n",
              " 'to',\n",
              " 'complete',\n",
              " 'the',\n",
              " 'only',\n",
              " 'whitewash',\n",
              " 'ever',\n",
              " 'inflicted',\n",
              " 'by',\n",
              " 'england',\n",
              " 'the',\n",
              " 'next',\n",
              " 'decade',\n",
              " 'saw',\n",
              " 'indias',\n",
              " 'reputation',\n",
              " 'develop',\n",
              " 'as',\n",
              " 'a',\n",
              " 'team',\n",
              " 'with',\n",
              " 'a',\n",
              " 'strong',\n",
              " 'record',\n",
              " 'at',\n",
              " 'home',\n",
              " 'they',\n",
              " 'won',\n",
              " 'their',\n",
              " 'first',\n",
              " 'test',\n",
              " 'series',\n",
              " 'against',\n",
              " 'england',\n",
              " 'at',\n",
              " 'home',\n",
              " 'in',\n",
              " 'and',\n",
              " 'also',\n",
              " 'won',\n",
              " 'a',\n",
              " 'home',\n",
              " 'series',\n",
              " 'against',\n",
              " 'new',\n",
              " 'zealand',\n",
              " 'they',\n",
              " 'managed',\n",
              " 'to',\n",
              " 'draw',\n",
              " 'home',\n",
              " 'series',\n",
              " 'against',\n",
              " 'pakistan',\n",
              " 'and',\n",
              " 'australia',\n",
              " 'and',\n",
              " 'another',\n",
              " 'series',\n",
              " 'against',\n",
              " 'england',\n",
              " 'in',\n",
              " 'this',\n",
              " 'same',\n",
              " 'period',\n",
              " 'india',\n",
              " 'also',\n",
              " 'won',\n",
              " 'its',\n",
              " 'first',\n",
              " 'series',\n",
              " 'outside',\n",
              " 'the',\n",
              " 'subcontinent',\n",
              " 'against',\n",
              " 'new',\n",
              " 'zealand',\n",
              " 'in',\n",
              " 'the',\n",
              " 'key',\n",
              " 'to',\n",
              " 'indias',\n",
              " 'bowling',\n",
              " 'in',\n",
              " 'the',\n",
              " 's',\n",
              " 'were',\n",
              " 'the',\n",
              " 'indian',\n",
              " 'spin',\n",
              " 'quartet',\n",
              " 'bishan',\n",
              " 'singh',\n",
              " 'bedi',\n",
              " 'e',\n",
              " 'a',\n",
              " 's',\n",
              " 'prasanna',\n",
              " 'b',\n",
              " 's',\n",
              " 'chandrasekhar',\n",
              " 'and',\n",
              " 'srinivasaraghavan',\n",
              " 'venkataraghavan',\n",
              " 'this',\n",
              " 'period',\n",
              " 'also',\n",
              " 'saw',\n",
              " 'the',\n",
              " 'emergence',\n",
              " 'of',\n",
              " 'two',\n",
              " 'of',\n",
              " 'indias',\n",
              " 'best',\n",
              " 'ever',\n",
              " 'batsmen',\n",
              " 'sunil',\n",
              " 'gavaskar',\n",
              " 'and',\n",
              " 'gundappa',\n",
              " 'viswanath',\n",
              " 'indian',\n",
              " 'pitches',\n",
              " 'have',\n",
              " 'had',\n",
              " 'the',\n",
              " 'tendency',\n",
              " 'to',\n",
              " 'support',\n",
              " 'spin',\n",
              " 'and',\n",
              " 'the',\n",
              " 'spin',\n",
              " 'quartet',\n",
              " 'exploited',\n",
              " 'this',\n",
              " 'to',\n",
              " 'create',\n",
              " 'collapses',\n",
              " 'in',\n",
              " 'opposing',\n",
              " 'batting',\n",
              " 'lineups',\n",
              " 'these',\n",
              " 'players',\n",
              " 'were',\n",
              " 'responsible',\n",
              " 'for',\n",
              " 'the',\n",
              " 'backtoback',\n",
              " 'series',\n",
              " 'wins',\n",
              " 'in',\n",
              " 'in',\n",
              " 'the',\n",
              " 'west',\n",
              " 'indies',\n",
              " 'and',\n",
              " 'in',\n",
              " 'england',\n",
              " 'under',\n",
              " 'the',\n",
              " 'captaincy',\n",
              " 'of',\n",
              " 'ajit',\n",
              " 'wadekar',\n",
              " 'gavaskar',\n",
              " 'scored',\n",
              " 'runs',\n",
              " 'in',\n",
              " ...]"
            ]
          },
          "execution_count": 6,
          "metadata": {},
          "output_type": "execute_result"
        }
      ],
      "source": [
        "tokens"
      ]
    },
    {
      "cell_type": "code",
      "execution_count": 7,
      "metadata": {
        "colab": {
          "base_uri": "https://localhost:8080/"
        },
        "id": "rSVKOs8819Hs",
        "outputId": "687f4f38-d1b7-4e0d-9020-435104d546a1"
      },
      "outputs": [
        {
          "data": {
            "text/plain": [
              "3517"
            ]
          },
          "execution_count": 7,
          "metadata": {},
          "output_type": "execute_result"
        }
      ],
      "source": [
        "len(tokens)"
      ]
    },
    {
      "cell_type": "markdown",
      "metadata": {
        "id": "IxVP_nXfjYqi"
      },
      "source": [
        "This script builds a vocabulary for the next-word prediction model by assigning unique integer indices to tokens in the dataset, with an unknown token (<UNK>) initialized in the vocabulary."
      ]
    },
    {
      "cell_type": "code",
      "execution_count": 8,
      "metadata": {
        "colab": {
          "base_uri": "https://localhost:8080/"
        },
        "id": "vIi01Cbl3C07",
        "outputId": "71fcc504-a1fb-40db-959a-74a5317b792b"
      },
      "outputs": [
        {
          "data": {
            "text/plain": [
              "{'<UNK>': 0,\n",
              " 'the': 1,\n",
              " 'india': 2,\n",
              " 'mens': 3,\n",
              " 'national': 4,\n",
              " 'cricket': 5,\n",
              " 'team': 6,\n",
              " 'also': 7,\n",
              " 'known': 8,\n",
              " 'as': 9,\n",
              " 'men': 10,\n",
              " 'in': 11,\n",
              " 'blue': 12,\n",
              " 'represents': 13,\n",
              " 'international': 14,\n",
              " 'it': 15,\n",
              " 'is': 16,\n",
              " 'governed': 17,\n",
              " 'by': 18,\n",
              " 'board': 19,\n",
              " 'of': 20,\n",
              " 'control': 21,\n",
              " 'for': 22,\n",
              " 'and': 23,\n",
              " 'a': 24,\n",
              " 'full': 25,\n",
              " 'member': 26,\n",
              " 'nation': 27,\n",
              " 'council': 28,\n",
              " 'with': 29,\n",
              " 'test': 30,\n",
              " 'odi': 31,\n",
              " 'ti': 32,\n",
              " 'status': 33,\n",
              " 'are': 34,\n",
              " 'current': 35,\n",
              " 'holders': 36,\n",
              " 't': 37,\n",
              " 'world': 38,\n",
              " 'cup': 39,\n",
              " 'champions': 40,\n",
              " 'trophy': 41,\n",
              " 'asia': 42,\n",
              " 'has': 43,\n",
              " 'played': 44,\n",
              " 'matches': 45,\n",
              " 'winning': 46,\n",
              " 'losing': 47,\n",
              " 'draws': 48,\n",
              " 'tie': 49,\n",
              " 'may': 50,\n",
              " 'ranked': 51,\n",
              " 'fourth': 52,\n",
              " 'icc': 53,\n",
              " 'rankings': 54,\n",
              " 'rating': 55,\n",
              " 'points': 56,\n",
              " 'have': 57,\n",
              " 'two': 58,\n",
              " 'three': 59,\n",
              " 'championship': 60,\n",
              " 'finals': 61,\n",
              " 'finishing': 62,\n",
              " 'runnersup': 63,\n",
              " 'while': 64,\n",
              " 'third': 65,\n",
              " 'rivalries': 66,\n",
              " 'include': 67,\n",
              " 'bordergavaskar': 68,\n",
              " 'australia': 69,\n",
              " 'freedom': 70,\n",
              " 'south': 71,\n",
              " 'africa': 72,\n",
              " 'anthony': 73,\n",
              " 'de': 74,\n",
              " 'mello': 75,\n",
              " 'pataudi': 76,\n",
              " 'both': 77,\n",
              " 'england': 78,\n",
              " 'tying': 79,\n",
              " 'ending': 80,\n",
              " 'noresult': 81,\n",
              " 'first': 82,\n",
              " 'appeared': 83,\n",
              " 'final': 84,\n",
              " 'four': 85,\n",
              " 'times': 86,\n",
              " 'won': 87,\n",
              " 'twice': 88,\n",
              " 'was': 89,\n",
              " 'second': 90,\n",
              " 'after': 91,\n",
              " 'west': 92,\n",
              " 'indies': 93,\n",
              " 'to': 94,\n",
              " 'win': 95,\n",
              " 'competition': 96,\n",
              " 'on': 97,\n",
              " 'home': 98,\n",
              " 'soil': 99,\n",
              " 'addition': 100,\n",
              " 'that': 101,\n",
              " 'they': 102,\n",
              " 'seven': 103,\n",
              " 'twenty': 104,\n",
              " 'secured': 105,\n",
              " 'gold': 106,\n",
              " 'medal': 107,\n",
              " 'at': 108,\n",
              " 'asian': 109,\n",
              " 'games': 110,\n",
              " 'history': 111,\n",
              " 'see': 112,\n",
              " 'early': 113,\n",
              " 's': 114,\n",
              " 'british': 115,\n",
              " 'brought': 116,\n",
              " 'match': 117,\n",
              " 'adopted': 118,\n",
              " 'kolis': 119,\n",
              " 'gujarat': 120,\n",
              " 'who': 121,\n",
              " 'were': 122,\n",
              " 'sea': 123,\n",
              " 'pirates': 124,\n",
              " 'outlaws': 125,\n",
              " 'often': 126,\n",
              " 'looted': 127,\n",
              " 'ships': 128,\n",
              " 'east': 129,\n",
              " 'company': 130,\n",
              " 'tried': 131,\n",
              " 'manage': 132,\n",
              " 'through': 133,\n",
              " 'successful': 134,\n",
              " 'parsi': 135,\n",
              " 'community': 136,\n",
              " 'mumbai': 137,\n",
              " 'formed': 138,\n",
              " 'oriental': 139,\n",
              " 'club': 140,\n",
              " 'be': 141,\n",
              " 'established': 142,\n",
              " 'indians': 143,\n",
              " 'slow': 144,\n",
              " 'beginnings': 145,\n",
              " 'europeans': 146,\n",
              " 'eventually': 147,\n",
              " 'invited': 148,\n",
              " 'parsis': 149,\n",
              " 'play': 150,\n",
              " 'hindus': 151,\n",
              " 'sikhs': 152,\n",
              " 'muslims': 153,\n",
              " 'bombay': 154,\n",
              " 'quadrangular': 155,\n",
              " 'tournament': 156,\n",
              " 'every': 157,\n",
              " 'year': 158,\n",
              " 'some': 159,\n",
              " 'went': 160,\n",
              " 'these': 161,\n",
              " 'such': 162,\n",
              " 'ranjitsinhji': 163,\n",
              " 'duleepsinhji': 164,\n",
              " 'greatly': 165,\n",
              " 'appreciated': 166,\n",
              " 'their': 167,\n",
              " 'names': 168,\n",
              " 'used': 169,\n",
              " 'ranji': 170,\n",
              " 'duleep': 171,\n",
              " 'major': 172,\n",
              " 'firstclass': 173,\n",
              " 'tournaments': 174,\n",
              " 'an': 175,\n",
              " 'indian': 176,\n",
              " 'captained': 177,\n",
              " 'bhupinder': 178,\n",
              " 'singh': 179,\n",
              " 'patiala': 180,\n",
              " 'official': 181,\n",
              " 'tour': 182,\n",
              " 'isles': 183,\n",
              " 'but': 184,\n",
              " 'only': 185,\n",
              " 'english': 186,\n",
              " 'county': 187,\n",
              " 'teams': 188,\n",
              " 'not': 189,\n",
              " 'from': 190,\n",
              " 'made': 191,\n",
              " 'debut': 192,\n",
              " 'playing': 193,\n",
              " 'led': 194,\n",
              " 'c': 195,\n",
              " 'k': 196,\n",
              " 'nayudu': 197,\n",
              " 'considered': 198,\n",
              " 'best': 199,\n",
              " 'batsman': 200,\n",
              " 'time': 201,\n",
              " 'oneoff': 202,\n",
              " 'between': 203,\n",
              " 'sides': 204,\n",
              " 'lords': 205,\n",
              " 'london': 206,\n",
              " 'strong': 207,\n",
              " 'batting': 208,\n",
              " 'this': 209,\n",
              " 'point': 210,\n",
              " 'lose': 211,\n",
              " 'runs': 212,\n",
              " 'hosted': 213,\n",
              " 'its': 214,\n",
              " 'series': 215,\n",
              " 'when': 216,\n",
              " 'toured': 217,\n",
              " 'visitors': 218,\n",
              " 'threetest': 219,\n",
              " 'held': 220,\n",
              " 'now': 221,\n",
              " 'calcutta': 222,\n",
              " 'kolkata': 223,\n",
              " 'madras': 224,\n",
              " 'chennai': 225,\n",
              " 'continued': 226,\n",
              " 'improve': 227,\n",
              " 'throughout': 228,\n",
              " 'did': 229,\n",
              " 'achieve': 230,\n",
              " 'victory': 231,\n",
              " 'during': 232,\n",
              " 'period': 233,\n",
              " 'any': 234,\n",
              " 'due': 235,\n",
              " 'war': 236,\n",
              " 'ii': 237,\n",
              " 'independent': 238,\n",
              " 'country': 239,\n",
              " 'late': 240,\n",
              " 'against': 241,\n",
              " 'don': 242,\n",
              " 'bradmans': 243,\n",
              " 'which': 244,\n",
              " 'fivematch': 245,\n",
              " 'bradman': 246,\n",
              " 'tormenting': 247,\n",
              " 'bowling': 248,\n",
              " 'his': 249,\n",
              " 'australian': 250,\n",
              " 'summer': 251,\n",
              " 'subsequently': 252,\n",
              " 'five': 253,\n",
              " 'recorded': 254,\n",
              " 'th': 255,\n",
              " 'later': 256,\n",
              " 'same': 257,\n",
              " 'pakistan': 258,\n",
              " 'improvement': 259,\n",
              " 'new': 260,\n",
              " 'zealand': 261,\n",
              " 'however': 262,\n",
              " 'again': 263,\n",
              " 'remainder': 264,\n",
              " 'decade': 265,\n",
              " 'lost': 266,\n",
              " 'badly': 267,\n",
              " 'august': 268,\n",
              " 'innings': 269,\n",
              " 'complete': 270,\n",
              " 'whitewash': 271,\n",
              " 'ever': 272,\n",
              " 'inflicted': 273,\n",
              " 'next': 274,\n",
              " 'saw': 275,\n",
              " 'indias': 276,\n",
              " 'reputation': 277,\n",
              " 'develop': 278,\n",
              " 'record': 279,\n",
              " 'managed': 280,\n",
              " 'draw': 281,\n",
              " 'another': 282,\n",
              " 'outside': 283,\n",
              " 'subcontinent': 284,\n",
              " 'key': 285,\n",
              " 'spin': 286,\n",
              " 'quartet': 287,\n",
              " 'bishan': 288,\n",
              " 'bedi': 289,\n",
              " 'e': 290,\n",
              " 'prasanna': 291,\n",
              " 'b': 292,\n",
              " 'chandrasekhar': 293,\n",
              " 'srinivasaraghavan': 294,\n",
              " 'venkataraghavan': 295,\n",
              " 'emergence': 296,\n",
              " 'batsmen': 297,\n",
              " 'sunil': 298,\n",
              " 'gavaskar': 299,\n",
              " 'gundappa': 300,\n",
              " 'viswanath': 301,\n",
              " 'pitches': 302,\n",
              " 'had': 303,\n",
              " 'tendency': 304,\n",
              " 'support': 305,\n",
              " 'exploited': 306,\n",
              " 'create': 307,\n",
              " 'collapses': 308,\n",
              " 'opposing': 309,\n",
              " 'lineups': 310,\n",
              " 'players': 311,\n",
              " 'responsible': 312,\n",
              " 'backtoback': 313,\n",
              " 'wins': 314,\n",
              " 'under': 315,\n",
              " 'captaincy': 316,\n",
              " 'ajit': 317,\n",
              " 'wadekar': 318,\n",
              " 'scored': 319,\n",
              " 'dilip': 320,\n",
              " 'sardesais': 321,\n",
              " 'big': 322,\n",
              " 'part': 323,\n",
              " 'one': 324,\n",
              " 'oneday': 325,\n",
              " 'success': 326,\n",
              " 'advent': 327,\n",
              " 'day': 328,\n",
              " 'created': 329,\n",
              " 'dimension': 330,\n",
              " 'odis': 331,\n",
              " 'captain': 332,\n",
              " 'defensive': 333,\n",
              " 'approach': 334,\n",
              " 'began': 335,\n",
              " 'weak': 336,\n",
              " 'qualify': 337,\n",
              " 'knockout': 338,\n",
              " 'stage': 339,\n",
              " 'editions': 340,\n",
              " 'infamously': 341,\n",
              " 'blocked': 342,\n",
              " 'way': 343,\n",
              " 'out': 344,\n",
              " 'balls': 345,\n",
              " 'inaugural': 346,\n",
              " 'just': 347,\n",
              " 'contrast': 348,\n",
              " 'fielded': 349,\n",
              " 'particularly': 350,\n",
              " 'where': 351,\n",
              " 'combination': 352,\n",
              " 'stylish': 353,\n",
              " 'beguiling': 354,\n",
              " 'spinners': 355,\n",
              " 'set': 356,\n",
              " 'then': 357,\n",
              " 'portofspain': 358,\n",
              " 'chased': 359,\n",
              " 'thanks': 360,\n",
              " 'november': 361,\n",
              " 'scoring': 362,\n",
              " 'declared': 363,\n",
              " 'kanpur': 364,\n",
              " 'without': 365,\n",
              " 'individual': 366,\n",
              " 'century': 367,\n",
              " 'there': 368,\n",
              " 'six': 369,\n",
              " 'fifties': 370,\n",
              " 'highest': 371,\n",
              " 'being': 372,\n",
              " 'mohinder': 373,\n",
              " 'amarnath': 374,\n",
              " 'eighth': 375,\n",
              " 'instance': 376,\n",
              " 'all': 377,\n",
              " 'eleven': 378,\n",
              " 'reached': 379,\n",
              " 'double': 380,\n",
              " 'figures': 381,\n",
              " 'performed': 382,\n",
              " 'worse': 383,\n",
              " 'failing': 384,\n",
              " 'single': 385,\n",
              " 'developed': 386,\n",
              " 'more': 387,\n",
              " 'attackminded': 388,\n",
              " 'lineup': 389,\n",
              " 'stroke': 390,\n",
              " 'makers': 391,\n",
              " 'wristy': 392,\n",
              " 'mohammad': 393,\n",
              " 'azharuddin': 394,\n",
              " 'krishnamachari': 395,\n",
              " 'srikanth': 396,\n",
              " 'vengsarkar': 397,\n",
              " 'allrounders': 398,\n",
              " 'kapil': 399,\n",
              " 'dev': 400,\n",
              " 'ravi': 401,\n",
              " 'shastri': 402,\n",
              " 'june': 403,\n",
              " 'defeating': 404,\n",
              " 'favourites': 405,\n",
              " 'twotime': 406,\n",
              " 'defending': 407,\n",
              " 'owing': 408,\n",
              " 'performance': 409,\n",
              " 'bowler': 410,\n",
              " 'roger': 411,\n",
              " 'binny': 412,\n",
              " 'leading': 413,\n",
              " 'wicket': 414,\n",
              " 'taker': 415,\n",
              " 'scalps': 416,\n",
              " 'spite': 417,\n",
              " 'poorly': 418,\n",
              " 'arena': 419,\n",
              " 'including': 420,\n",
              " 'consecutive': 421,\n",
              " 'inaugral': 422,\n",
              " 'edition': 423,\n",
              " 'despite': 424,\n",
              " 'half': 425,\n",
              " 'remained': 426,\n",
              " 'last': 427,\n",
              " 'years': 428,\n",
              " 'allrounder': 429,\n",
              " 'date': 430,\n",
              " 'pinnacle': 431,\n",
              " 'careers': 432,\n",
              " 'centuries': 433,\n",
              " 'he': 434,\n",
              " 'became': 435,\n",
              " 'man': 436,\n",
              " 'reach': 437,\n",
              " 'run': 438,\n",
              " 'mark': 439,\n",
              " 'wickettaker': 440,\n",
              " 'wickets': 441,\n",
              " 'marked': 442,\n",
              " 'unstable': 443,\n",
              " 'leadership': 444,\n",
              " 'exchanging': 445,\n",
              " 'several': 446,\n",
              " 'cohosted': 447,\n",
              " 'semifinals': 448,\n",
              " 'defeated': 449,\n",
              " 'having': 450,\n",
              " 'them': 451,\n",
              " 'prior': 452,\n",
              " 'sachin': 453,\n",
              " 'tendulkar': 454,\n",
              " 'anil': 455,\n",
              " 'kumble': 456,\n",
              " 'side': 457,\n",
              " 'further': 458,\n",
              " 'improved': 459,\n",
              " 'following': 460,\n",
              " 'javagal': 461,\n",
              " 'srinath': 462,\n",
              " 'fastest': 463,\n",
              " 'since': 464,\n",
              " 'amar': 465,\n",
              " 'make': 466,\n",
              " 'tests': 467,\n",
              " 'notably': 468,\n",
              " 'hattrick': 469,\n",
              " 'cups': 470,\n",
              " 'eliminated': 471,\n",
              " 'neighbours': 472,\n",
              " 'sri': 473,\n",
              " 'lanka': 474,\n",
              " 'disastrous': 475,\n",
              " 'semifinal': 476,\n",
              " 'rioters': 477,\n",
              " 'burnt': 478,\n",
              " 'section': 479,\n",
              " 'stadium': 480,\n",
              " 'face': 481,\n",
              " 'crushing': 482,\n",
              " 'defeat': 483,\n",
              " 'scorer': 484,\n",
              " 'wickettaking': 485,\n",
              " 'charts': 486,\n",
              " 'underwent': 487,\n",
              " 'change': 488,\n",
              " 'sourav': 489,\n",
              " 'ganguly': 490,\n",
              " 'rahul': 491,\n",
              " 'dravid': 492,\n",
              " 'become': 493,\n",
              " 'captains': 494,\n",
              " 'replaced': 495,\n",
              " 'personal': 496,\n",
              " 'form': 497,\n",
              " 'slump': 498,\n",
              " 'relinquished': 499,\n",
              " 'reinstated': 500,\n",
              " 'beginning': 501,\n",
              " 'participated': 502,\n",
              " 'order': 503,\n",
              " 'bilateral': 504,\n",
              " 'split': 505,\n",
              " 'squad': 506,\n",
              " 'into': 507,\n",
              " 'sent': 508,\n",
              " 'feature': 509,\n",
              " 'commonwealth': 510,\n",
              " 'result': 511,\n",
              " 'failed': 512,\n",
              " 'progress': 513,\n",
              " 'group': 514,\n",
              " 'knocked': 515,\n",
              " 'yet': 516,\n",
              " 'knockouts': 517,\n",
              " 'poor': 518,\n",
              " 'resigned': 519,\n",
              " 'vowing': 520,\n",
              " 'never': 521,\n",
              " 'changes': 522,\n",
              " 'dominance': 523,\n",
              " 'global': 524,\n",
              " 'damaged': 525,\n",
              " 'former': 526,\n",
              " 'fellow': 527,\n",
              " 'ajay': 528,\n",
              " 'jadeja': 529,\n",
              " 'implicated': 530,\n",
              " 'matchfixing': 531,\n",
              " 'scandal': 532,\n",
              " 'given': 533,\n",
              " 'life': 534,\n",
              " 'fiveyear': 535,\n",
              " 'bans': 536,\n",
              " 'respectively': 537,\n",
              " 'described': 538,\n",
              " 'bbc': 539,\n",
              " 'crickets': 540,\n",
              " 'worst': 541,\n",
              " 'hour': 542,\n",
              " 'core': 543,\n",
              " 'swore': 544,\n",
              " 'let': 545,\n",
              " 'happen': 546,\n",
              " 'dark': 547,\n",
              " 'put': 548,\n",
              " 'aside': 549,\n",
              " 'ambitions': 550,\n",
              " 'lead': 551,\n",
              " 'era': 552,\n",
              " 'improvements': 553,\n",
              " 'guidance': 554,\n",
              " 'john': 555,\n",
              " 'wright': 556,\n",
              " 'foreign': 557,\n",
              " 'coach': 558,\n",
              " 'venkatesh': 559,\n",
              " 'prasad': 560,\n",
              " 'steve': 561,\n",
              " 'waugh': 562,\n",
              " 'labelled': 563,\n",
              " 'frontier': 564,\n",
              " 'because': 565,\n",
              " 'inability': 566,\n",
              " 'took': 567,\n",
              " 'natwest': 568,\n",
              " 'topping': 569,\n",
              " 'table': 570,\n",
              " 'faced': 571,\n",
              " 'hosts': 572,\n",
              " 'ended': 573,\n",
              " 'up': 574,\n",
              " 'chasing': 575,\n",
              " 'what': 576,\n",
              " 'widely': 577,\n",
              " 'regarded': 578,\n",
              " 'greatest': 579,\n",
              " 'september': 580,\n",
              " 'crowned': 581,\n",
              " 'undefeated': 582,\n",
              " 'jointwinners': 583,\n",
              " 'rained': 584,\n",
              " 'off': 585,\n",
              " 'days': 586,\n",
              " 'title': 587,\n",
              " 'countries': 588,\n",
              " 'virender': 589,\n",
              " 'sehwag': 590,\n",
              " 'beaten': 591,\n",
              " 'player': 592,\n",
              " 'most': 593,\n",
              " 'convincing': 594,\n",
              " 'loss': 595,\n",
              " 'gave': 596,\n",
              " 'successive': 597,\n",
              " 'victories': 598,\n",
              " 'performances': 599,\n",
              " 'trophies': 600,\n",
              " 'dravids': 601,\n",
              " 'significant': 602,\n",
              " 'structure': 603,\n",
              " 'found': 604,\n",
              " 'like': 605,\n",
              " 'ms': 606,\n",
              " 'dhoni': 607,\n",
              " 'yuvraj': 608,\n",
              " 'harbhajan': 609,\n",
              " 'zaheer': 610,\n",
              " 'khan': 611,\n",
              " 'limitedovers': 612,\n",
              " 'beating': 613,\n",
              " 'dominant': 614,\n",
              " 'factor': 615,\n",
              " 'introduction': 616,\n",
              " 'premier': 617,\n",
              " 'league': 618,\n",
              " 'stages': 619,\n",
              " 'fifteen': 620,\n",
              " 'cricketer': 621,\n",
              " 'score': 622,\n",
              " 'april': 623,\n",
              " 'thus': 624,\n",
              " 'becoming': 625,\n",
              " 'tendulkars': 626,\n",
              " 'equalled': 627,\n",
              " 'javed': 628,\n",
              " 'miandads': 629,\n",
              " 'jointhighest': 630,\n",
              " 'whiteball': 631,\n",
              " 'broke': 632,\n",
              " 'row': 633,\n",
              " 'overcoming': 634,\n",
              " 'rainaffected': 635,\n",
              " 'namely': 636,\n",
              " 'shikhar': 637,\n",
              " 'dhawan': 638,\n",
              " 'golden': 639,\n",
              " 'bat': 640,\n",
              " 'ravindra': 641,\n",
              " 'ball': 642,\n",
              " 'rohit': 643,\n",
              " 'sharma': 644,\n",
              " 'openers': 645,\n",
              " 'alongside': 646,\n",
              " 'virat': 647,\n",
              " 'kohli': 648,\n",
              " 'bowlers': 649,\n",
              " 'ravichandran': 650,\n",
              " 'ashwin': 651,\n",
              " 'mohammed': 652,\n",
              " 'shami': 653,\n",
              " 'bhuvneshwar': 654,\n",
              " 'kumar': 655,\n",
              " 'rounder': 656,\n",
              " 'drought': 657,\n",
              " 'bangladesh': 658,\n",
              " 'narrowly': 659,\n",
              " 'missed': 660,\n",
              " 'stepped': 661,\n",
              " 'down': 662,\n",
              " 'focus': 663,\n",
              " 'paving': 664,\n",
              " 'vicecaptain': 665,\n",
              " 'succeed': 666,\n",
              " 'him': 667,\n",
              " 'overtook': 668,\n",
              " 'runscorer': 669,\n",
              " 'inning': 670,\n",
              " 'cross': 671,\n",
              " 'eventual': 672,\n",
              " 'winners': 673,\n",
              " 'inclusion': 674,\n",
              " 'pacer': 675,\n",
              " 'jasprit': 676,\n",
              " 'bumrah': 677,\n",
              " 'hardik': 678,\n",
              " 'pandya': 679,\n",
              " 'remaining': 680,\n",
              " 'unbeaten': 681,\n",
              " 'back': 682,\n",
              " 'fulltime': 683,\n",
              " 'across': 684,\n",
              " 'formats': 685,\n",
              " 'arch': 686,\n",
              " 'rivals': 687,\n",
              " 'award': 688,\n",
              " 'nidahas': 689,\n",
              " 'dhonis': 690,\n",
              " 'retirement': 691,\n",
              " 'kl': 692,\n",
              " 'over': 693,\n",
              " 'wicketkeeper': 694,\n",
              " 'regular': 695,\n",
              " 'dismissed': 696,\n",
              " 'turnaround': 697,\n",
              " 'eight': 698,\n",
              " 'disappointing': 699,\n",
              " 'succeeded': 700,\n",
              " 'replacing': 701,\n",
              " 'qualified': 702,\n",
              " 'ten': 703,\n",
              " 'losses': 704,\n",
              " 'mentioned': 705,\n",
              " 'dinesh': 706,\n",
              " 'karthik': 707,\n",
              " 'something': 708,\n",
              " 'needed': 709,\n",
              " 'changed': 710,\n",
              " 'aggressive': 711,\n",
              " 'style': 712,\n",
              " 'well': 713,\n",
              " 'directing': 714,\n",
              " 'targetting': 715,\n",
              " 'dismissing': 716,\n",
              " 'higher': 717,\n",
              " 'seeding': 718,\n",
              " 'afghanisthan': 719,\n",
              " 'washed': 720,\n",
              " 'deemed': 721,\n",
              " 'afghanistan': 722,\n",
              " 'conceded': 723,\n",
              " 'records': 724,\n",
              " 'ultimately': 725,\n",
              " 'resurgence': 726,\n",
              " 'present': 727,\n",
              " 'january': 728,\n",
              " 'longestever': 729,\n",
              " 'got': 730,\n",
              " 'extended': 731,\n",
              " 'rounds': 732,\n",
              " 'super': 733,\n",
              " 'overs': 734,\n",
              " 'triumph': 735,\n",
              " 'arshdeep': 736,\n",
              " 'rohits': 737,\n",
              " 'nine': 738,\n",
              " 'until': 739,\n",
              " 'shakib': 740,\n",
              " 'al': 741,\n",
              " 'hasan': 742,\n",
              " 'march': 743,\n",
              " 'thrice': 744,\n",
              " 'season': 745,\n",
              " 'followed': 746,\n",
              " 'qualifying': 747,\n",
              " 'although': 748,\n",
              " 'comfortable': 749,\n",
              " 'position': 750,\n",
              " 'thereby': 751}"
            ]
          },
          "execution_count": 8,
          "metadata": {},
          "output_type": "execute_result"
        }
      ],
      "source": [
        "vocab={'<UNK>':0}\n",
        "Counter(tokens).keys\n",
        "for token in Counter(tokens).keys():\n",
        "  if token not in vocab:\n",
        "    vocab[token]=len(vocab)\n",
        "\n",
        "vocab"
      ]
    },
    {
      "cell_type": "code",
      "execution_count": 9,
      "metadata": {
        "colab": {
          "base_uri": "https://localhost:8080/"
        },
        "id": "6G1hWDFD3R0K",
        "outputId": "e37e9349-4cc6-4d07-c875-73754831018b"
      },
      "outputs": [
        {
          "data": {
            "text/plain": [
              "752"
            ]
          },
          "execution_count": 9,
          "metadata": {},
          "output_type": "execute_result"
        }
      ],
      "source": [
        "len(vocab)"
      ]
    },
    {
      "cell_type": "markdown",
      "metadata": {
        "id": "6ouJjde4jhRX"
      },
      "source": [
        "This script splits the input document into individual sentences, preparing the text data for further processing in the next-word prediction model."
      ]
    },
    {
      "cell_type": "code",
      "execution_count": 10,
      "metadata": {
        "id": "naOkOaDx42hX"
      },
      "outputs": [],
      "source": [
        "input_sentences=document.split('\\n')"
      ]
    },
    {
      "cell_type": "code",
      "execution_count": 11,
      "metadata": {
        "colab": {
          "base_uri": "https://localhost:8080/"
        },
        "collapsed": true,
        "id": "pD_f9om25uPk",
        "outputId": "48b2d1c6-a050-4dff-e61c-c01e7d99d78e"
      },
      "outputs": [
        {
          "data": {
            "text/plain": [
              "['the india mens national cricket team also known as men in blue represents india in international cricket',\n",
              " 'it is governed by the board of control for cricket in india and is a full member nation of the international cricket council with test odi and ti status',\n",
              " 'india are the current holders of the t world cup the champions trophy and the asia cup',\n",
              " 'the team has played test matches winning losing with draws and tie',\n",
              " 'as of may india is ranked fourth in the icc mens test team rankings with rating points',\n",
              " 'india have played in two of the three world test championship finals finishing runnersup in and while finishing third in',\n",
              " 'test rivalries include the bordergavaskar trophy with australia freedom trophy with south africa anthony de mello trophy and pataudi trophy both with england',\n",
              " 'the team has played odi matches winning losing tying and with ending in a noresult',\n",
              " 'as of may india is ranked first in the icc mens odi team rankings with rating points',\n",
              " 'india have appeared in the world cup final four times in and and have won the world cup twice in and',\n",
              " 'it was the second team after the west indies to win the world cup and the first to win the competition on home soil after winning it in',\n",
              " 'india have also won the champions trophy three times in and',\n",
              " 'in addition to that they have also won the odi asia cup seven times in and',\n",
              " 'the team has played twenty international matches winning losing tying and with ending in a noresult',\n",
              " 'as of may india is ranked first in the icc mens ti team rankings with rating points',\n",
              " 'india have won the t world cup twice in and',\n",
              " 'they have also won the t asia cup in and have secured a gold medal at the asian games in',\n",
              " 'history see also cricket in india history early history s see also history of cricket in india to the british first brought cricket to india in the early s with the first cricket match played in',\n",
              " 'it was played and adopted by kolis of gujarat who were sea pirates and outlaws who often looted the british ships',\n",
              " 'the east india company tried to manage the kolis through cricket and were successful in the parsi community in mumbai formed the oriental cricket club the first cricket club to be established by indians',\n",
              " 'after slow beginnings the europeans eventually invited the parsis to play a match in',\n",
              " 'by the parsis hindus sikhs and muslims of bombay played a quadrangular tournament with the europeans every year',\n",
              " 'in the early s some indians went on to play for the england cricket team',\n",
              " 'some of these such as ranjitsinhji and duleepsinhji were greatly appreciated by the british and their names went on to be used for the ranji trophy and duleep trophy two major firstclass tournaments in india',\n",
              " 'in an indian mens cricket team captained by bhupinder singh of patiala went on their first official tour of the british isles but only played english county teams and not the england cricket team',\n",
              " 'test match status see also history of cricket in india from to history of cricket in india from to and history of cricket in india from to india was invited to the international cricket council in and made their debut as a test playing nation in england in led by c k nayudu who was considered the best indian batsman at the time',\n",
              " 'the oneoff test match between the two sides was played at lords in london',\n",
              " 'the team was not strong in their batting at this point and went on to lose by runs',\n",
              " 'india hosted its first mens test cricket series in when england toured india',\n",
              " 'the visitors won the threetest series with the matches held at bombay now mumbai calcutta now kolkata and madras now chennai',\n",
              " 'the indian team continued to improve throughout the s and s but did not achieve an international victory during this period',\n",
              " 'in the early s india did not play any mens test cricket due to world war ii',\n",
              " 'the teams first series as an independent country was in late against don bradmans australia',\n",
              " 'it was also the first test series india played which was not against england',\n",
              " 'australia mens cricket team won the fivematch series with bradman tormenting the indian bowling in his final australian summer',\n",
              " 'india subsequently played their first test series at home not against england but against the west indies in',\n",
              " 'west indies won the five test series',\n",
              " 'india recorded their first test victory in their th match against england at madras in',\n",
              " 'later in the same year they won their first test series which was against pakistan',\n",
              " 'they continued their improvement throughout the early s with a series win against new zealand in',\n",
              " 'however they did not win again in the remainder of the decade and lost badly to strong australian and english sides',\n",
              " 'on august india lost by an innings in the test to complete the only whitewash ever inflicted by england',\n",
              " 'the next decade saw indias reputation develop as a team with a strong record at home',\n",
              " 'they won their first test series against england at home in and also won a home series against new zealand',\n",
              " 'they managed to draw home series against pakistan and australia and another series against england',\n",
              " 'in this same period india also won its first series outside the subcontinent against new zealand in',\n",
              " 'the key to indias bowling in the s were the indian spin quartet bishan singh bedi e a s prasanna b s chandrasekhar and srinivasaraghavan venkataraghavan',\n",
              " 'this period also saw the emergence of two of indias best ever batsmen sunil gavaskar and gundappa viswanath',\n",
              " 'indian pitches have had the tendency to support spin and the spin quartet exploited this to create collapses in opposing batting lineups',\n",
              " 'these players were responsible for the backtoback series wins in in the west indies and in england under the captaincy of ajit wadekar',\n",
              " 'gavaskar scored runs in the west indian series while dilip sardesais played a big part in their one test win',\n",
              " 'oneday cricket and icc cricket world cup success see also history of cricket in india from to the advent of mens one day international odi cricket in created a new dimension in the cricket world',\n",
              " 'however india was not considered strong in odis at this point and batsmen such as the captain gavaskar were known for their defensive approach to batting',\n",
              " 'india began as a weak team in odis and did not qualify for the knockout stage in the first two editions of the cricket world cup',\n",
              " 'gavaskar infamously blocked his way to not out of balls against england in the inaugural cricket world cup india scored just for and lost by runs',\n",
              " 'in contrast india fielded a strong team in test matches and was particularly strong at home where their combination of stylish batsmen and beguiling spinners were at their best',\n",
              " 'india set a then test record in the third test against the west indies at portofspain in when they chased to win thanks to from viswanath',\n",
              " 'in november the team established another record by scoring for declared against new zealand at kanpur without any individual batsman scoring a century',\n",
              " 'there were six fifties the highest being by mohinder amarnath',\n",
              " 'this innings was only the eighth instance in test cricket where all eleven batsmen reached double figures',\n",
              " 'india performed worse in the cricket world cup failing to win a single match',\n",
              " 'during the s india developed a more attackminded batting lineup with stroke makers such as the wristy mohammad azharuddin krishnamachari srikanth dilip vengsarkar and allrounders kapil dev and ravi shastri',\n",
              " 'on june india won the cricket world cup defeating the favourites and the twotime defending champions west indies in the final at lords owing to a strong bowling performance',\n",
              " 'bowler roger binny was the leading wicket taker of the tournament with scalps',\n",
              " 'in spite of this the team performed poorly in the test arena including consecutive test matches without a victory',\n",
              " 'in india won the inaugral edition of the asia cup and in won the world championship of cricket in australia',\n",
              " 'late th century see also history of cricket in india from to despite winning major tournaments in the first half of the s india remained a weak test team',\n",
              " 'indias test series victory in against england remained the last test series win by india outside the subcontinent for the next years',\n",
              " 'the s saw gavaskar and kapil dev indias best allrounder to date at the pinnacle of their careers',\n",
              " 'gavaskar made a test record centuries as he became the first man to reach the run mark',\n",
              " 'kapil dev later became the highest wickettaker in test cricket with wickets',\n",
              " 'the period was also marked by an unstable leadership with gavaskar and kapil exchanging the captaincy several times',\n",
              " 'india cohosted the cricket world cup the first instance when the tournament was hosted outside england',\n",
              " 'in the semifinals the india was defeated by england after having defeated them on the same stage four years prior',\n",
              " 'the addition of sachin tendulkar and anil kumble to the national side in and further improved the team',\n",
              " 'the following year javagal srinath indias fastest bowler since amar singh made his debut',\n",
              " 'under azharuddin india played in the cricket world cup failing to make the knockout stage in the tournament for the first time since',\n",
              " 'during the s india did not win any of its tests outside the subcontinent while it won out of its tests at home',\n",
              " 'notably india won a hattrick of asia cups in and',\n",
              " 'india was eliminated by neighbours sri lanka on home soil at the disastrous cricket world cup semifinal where rioters burnt section of the stadium at kolkata after india were set to face a crushing defeat',\n",
              " 'tendulkar was the tournaments leading run scorer with this the first time an indian being one in the tournament and kumble leading the wickettaking charts',\n",
              " 'following the world cup the team underwent a year of change as sourav ganguly and rahul dravid later to become captains of the team made their debut in the same test at lords',\n",
              " 'tendulkar replaced azharuddin as captain in late but after a personal and team form slump tendulkar relinquished the captaincy and azharuddin was reinstated at the beginning of',\n",
              " 'india lost the final of the asia cup losing the tournament for the first time in editions they had participated in',\n",
              " 'in order to play a bilateral odi series against pakistan india split its squad into two and sent a weak squad to feature in the cricket tournament of the commonwealth games',\n",
              " 'as a result india failed to progress from the group stage',\n",
              " 'in the inaugral edition of the champions trophy in india were knocked out in the semifinals by west indies',\n",
              " 'the team had yet another disastrous world cup in',\n",
              " 'despite dravid being the tournaments leading run scorer india failed to reach the knockouts',\n",
              " 'following this tendulkar was again made captain and had another poor run losing on a tour of australia and then at home to south africa',\n",
              " 'tendulkar resigned vowing never to captain the team again',\n",
              " 'captaincy changes and dominance on global stage see also history of cricket in india from the team was further damaged in when former captain azharuddin and fellow batsman ajay jadeja were implicated in a matchfixing scandal and given life and fiveyear bans respectively',\n",
              " 'this period was described by the bbc as the indian crickets worst hour',\n",
              " 'however the new core tendulkar dravid kumble and ganguly swore not to let this happen to them again and led indian cricket out of the dark times',\n",
              " 'the first three put aside personal ambitions to let ganguly lead them into a new era',\n",
              " 'the indian team underwent major improvements under the captaincy of ganguly and the guidance of john wright indias first foreign coach',\n",
              " 'ganguly led india to the final of the champions trophy indias first icc final after the world cup',\n",
              " 'despite his century india was defeated in the final by new zealand',\n",
              " 'he was the leading run scorer in the tournament and venkatesh prasad the leading wicket taker',\n",
              " 'in the kolkata test match india became only the third team in the history of test cricket to win a test match after following on',\n",
              " 'australian captain steve waugh labelled india as the final frontier because of his sides inability to win a test series in india',\n",
              " 'in india took part in the natwest series against england and sri lanka where after topping the table they faced hosts england in the final',\n",
              " 'india ended up chasing to win what is widely regarded as one of the greatest odi matches of all time winning the series',\n",
              " 'on september india and sri lanka were crowned undefeated jointwinners of the champions trophy after the final was rained off following days of play',\n",
              " 'this was indias first icc title after the world cup and india and sri lanka became the only countries to have won both the tournaments',\n",
              " 'virender sehwag was the tournaments leading run scorer',\n",
              " 'india then went to the cricket world cup in south africa where they reached the final indias third consecutive icc final only to be beaten by australia',\n",
              " 'tendulkar the player of the tournament set the record for the most runs scored in a single world cup',\n",
              " 'a convincing odi series win in pakistan in early following a loss in the test series gave india the world record of successive odi victories while batting second',\n",
              " 'india had poor performances at the champions trophies in and and most notably at the cricket world cup under dravids leadership which led to significant changes in the teams structure',\n",
              " 'india found a new core in players like ms dhoni yuvraj singh harbhajan singh and zaheer khan',\n",
              " 'in dhoni was made captain in limitedovers',\n",
              " 'on september india won the inaugral edition of the mens t world cup held in south africa beating pakistan by five runs in the final',\n",
              " 'this victory was a dominant factor in the introduction of the indian premier league',\n",
              " 'despite this india failed to reach the knockout stages of the champions trophy and the and editions of the t world cup',\n",
              " 'india won the asia cup winning the tournament for the first time in fifteen years',\n",
              " 'tendulkar became the first cricketer to score in odis',\n",
              " 'on april india won the cricket world cup by defeating sri lanka in the final thus becoming the third team after west indies and australia to win the world cup twice',\n",
              " 'india also became the first team to win the world cup on home soil',\n",
              " 'this was tendulkars last of six world cups having equalled javed miandads record of having played in the most editions of the tournament',\n",
              " 'zaheer khan was the jointhighest wicket taker of the tournament',\n",
              " 'sehwag yuvraj and harbhajan became the first set of players to win all three icc whiteball tournaments',\n",
              " 'later that year sehwag broke tendulkars record of having the highest individual score in odis',\n",
              " 'the following year the team failed to reach the knockouts for the t world cup for the third time in a row',\n",
              " 'on june india won the champions trophy undefeated after overcoming england in the rainaffected final and dhoni became the first captain in history to win all three icc trophies in whiteball cricket namely the cricket world cup t world cup and champions trophy',\n",
              " 'player of the tournament shikhar dhawan was the leading run scorer and won the golden bat',\n",
              " 'ravindra jadeja won the golden ball for being the highest wickettaker',\n",
              " 'india now had a strong core with rohit sharma and dhawan as odi openers alongside with virat kohli bowlers ravichandran ashwin mohammed shami bhuvneshwar kumar and all rounder jadeja',\n",
              " 'icc tournament drought in the t world cup hosted in bangladesh india narrowly missed out on another icc trophy by losing to sri lanka in the final',\n",
              " 'player of the tournament kohli was the leading run scorer having set the record for most runs scored in a single edition of the tournament',\n",
              " 'in late dhoni stepped down as captain in tests to focus on whiteball cricket paving way for kohli the vicecaptain to succeed him',\n",
              " 'in a match against sri lanka rohit overtook sehwag to become the leading runscorer in an inning in odis being the first player to cross',\n",
              " 'india was knocked out of the cricket world cup in the semifinal to eventual winners australia',\n",
              " 'with the inclusion of pacer jasprit bumrah and allrounder hardik pandya in the squad india began by winning the asia cup remaining unbeaten throughout the tournament',\n",
              " 'the team were favourites to win the t world cup which was being held at home but lost in the semifinal to eventual champions west indies',\n",
              " 'kohli became the first player to be player of the tournament in back to back editions of a major cricket tournament',\n",
              " 'after dhoni stepped down from whiteball captaincy kohli stepped in as fulltime captain across formats',\n",
              " 'india lost to arch rivals pakistan in the final of the champions trophy by runs the worst defeat in the final of an icc odi tournament',\n",
              " 'dhawan again won the golden bat after being the leading run scorer becoming the first to win the award twice',\n",
              " 'in india won a test series in australia for the first time in their history under kohli and coach shastri',\n",
              " 'after winning the asia cup and the nidahas trophy the teams next major global tournament was the cricket world cup where they made the semifinals but lost to new zealand by runs',\n",
              " 'after dhonis retirement kl rahul took over as wicketkeeper and became a team regular',\n",
              " 'vicecaptain rohit was the highest runscorer of the tournament with runs and set the record for most centuries scored in a tournament',\n",
              " 'following being dismissed for in a test against australia india managed to turnaround and again win a series in australia for the second time',\n",
              " 'india played the first ever final of the world test championship in against new zealand in which they lost by eight wickets',\n",
              " 'the team had a disappointing performance at the t world cup failing to reach the knockout stage of an icc tournament for the first time since and also notably losing to rivals pakistan by wickets their first defeat against the team in a world cup match',\n",
              " 'after this tournament kohli stepped down as captain being succeeded by rohit across formats and dravid replacing shastri as coach',\n",
              " 'they qualified for the semifinals in the t world cup but lost to england by ten wickets',\n",
              " 'india played the final of the world test championship against australia in which they lost by runs',\n",
              " 'following these losses rohit notably mentioned to dinesh karthik that something needed to change and he changed to having a more aggressive batting style as well as directing a more targetting batting approach in the team',\n",
              " 'india went on to win the asia cup by notably dismissing sri lanka for runs in the final and winning by ten wickets',\n",
              " 'india also secured the gold medal at the asian games held in due to higher seeding after the final against afghanisthan was washed out',\n",
              " 'they were deemed favourites to win the home cricket world cup',\n",
              " 'rohit broke tendulkars record of the most world cup centuries in the match against afghanistan',\n",
              " 'tendulkar conceded more records to kohli who overtook him to score the most centuries in odi cricket as well as for scoring the most runs in a single edition of the tournament',\n",
              " 'india was ultimately defeated in the final by australia',\n",
              " 'shami was the leading wicket taker of the tournament',\n",
              " 'resurgence present in january india played the longestever ti in a match against afghanistan which got extended to two rounds of super overs in an eventual indian triumph',\n",
              " 'on june india won the t world cup by defeating south africa in the final',\n",
              " 'they became the third team after england and west indies to win the cup twice and also the first team to win the tournament undefeated',\n",
              " 'arshdeep singh was the jointhighest wicket taker at wickets while bumrah became the player of the tournament',\n",
              " 'this was rohits last of nine t world cups having participated in every edition up until alongside shakib al hasan of bangladesh',\n",
              " 'on march india won the champions trophy undefeated',\n",
              " 'the team defeated new zealand in the final defeating them for the first time at this stage in an icc tournament',\n",
              " 'this was indias third consecutive final of the tournament as well as fourth consecutive icc final',\n",
              " 'india became the first team to win the tournament thrice with rohit and kohli being the only indians to win four icc tournaments',\n",
              " 'despite this india had a poor season of test cricket',\n",
              " 'following the series win against england and bangladesh india lost to new zealand in a home series followed by failing to win a hattrick of a test series in australia',\n",
              " 'due to these losses india missed out on qualifying for the world test championship final although the team was in a comfortable position to qualify prior to the series thereby failing to reach the final for the first time']"
            ]
          },
          "execution_count": 11,
          "metadata": {},
          "output_type": "execute_result"
        }
      ],
      "source": [
        "input_sentences"
      ]
    },
    {
      "cell_type": "markdown",
      "metadata": {
        "id": "pc1gw4zljnt7"
      },
      "source": [
        "This function converts a sentence into a sequence of numerical indices based on the vocabulary, using the <UNK> token for unknown words not found in the vocabulary."
      ]
    },
    {
      "cell_type": "code",
      "execution_count": 12,
      "metadata": {
        "id": "Ya2dByIG7FD0"
      },
      "outputs": [],
      "source": [
        "def text_indices(sentence, vocab):\n",
        "  numerical_sentence=[]\n",
        "  for token in sentence:\n",
        "    if token not in vocab:\n",
        "      numerical_sentence.append(vocab['<UNK>'])\n",
        "    else:\n",
        "      numerical_sentence.append(vocab[token])\n",
        "  return numerical_sentence"
      ]
    },
    {
      "cell_type": "markdown",
      "metadata": {
        "id": "UYczHb7CjtsH"
      },
      "source": [
        "This script converts the list of input sentences into sequences of numerical indices by tokenizing each sentence, converting to lowercase, and mapping tokens to their corresponding indices in the vocabulary."
      ]
    },
    {
      "cell_type": "code",
      "execution_count": 13,
      "metadata": {
        "collapsed": true,
        "id": "8NBeibG36F18"
      },
      "outputs": [],
      "source": [
        "input_numerical_sentences = []\n",
        "\n",
        "for sentence in input_sentences:\n",
        "  input_numerical_sentences.append(text_indices(word_tokenize(sentence.lower()), vocab))\n"
      ]
    },
    {
      "cell_type": "code",
      "execution_count": 14,
      "metadata": {
        "colab": {
          "base_uri": "https://localhost:8080/"
        },
        "id": "N4vBcvem6iJf",
        "outputId": "4f338e62-c01f-4a64-cf42-2fcfac21d1ee"
      },
      "outputs": [
        {
          "data": {
            "text/plain": [
              "169"
            ]
          },
          "execution_count": 14,
          "metadata": {},
          "output_type": "execute_result"
        }
      ],
      "source": [
        "len(input_numerical_sentences)"
      ]
    },
    {
      "cell_type": "markdown",
      "metadata": {
        "id": "QMZheV86jzpl"
      },
      "source": [
        "This script generates training sequences for the next-word prediction model by creating subsequences from each sentence, where each sequence includes progressively more tokens to predict the next word."
      ]
    },
    {
      "cell_type": "code",
      "execution_count": 15,
      "metadata": {
        "collapsed": true,
        "id": "C2wgMmiy83OP"
      },
      "outputs": [],
      "source": [
        "training_sequences = []\n",
        "for sentence in input_numerical_sentences:\n",
        "  for i in range(1,len(sentence)):\n",
        "    training_sequences.append(sentence[:i+1])\n"
      ]
    },
    {
      "cell_type": "code",
      "execution_count": 16,
      "metadata": {
        "colab": {
          "base_uri": "https://localhost:8080/"
        },
        "id": "GLjJSb4N8-SF",
        "outputId": "a9d56072-0467-493d-8746-6abfc77665a6"
      },
      "outputs": [
        {
          "data": {
            "text/plain": [
              "3348"
            ]
          },
          "execution_count": 16,
          "metadata": {},
          "output_type": "execute_result"
        }
      ],
      "source": [
        "len(training_sequences)"
      ]
    },
    {
      "cell_type": "code",
      "execution_count": 17,
      "metadata": {
        "colab": {
          "base_uri": "https://localhost:8080/"
        },
        "id": "ovkcTpnp_P6L",
        "outputId": "3c631f1e-9e4b-4c62-8100-fe55508e1d61"
      },
      "outputs": [
        {
          "data": {
            "text/plain": [
              "[[1, 2],\n",
              " [1, 2, 3],\n",
              " [1, 2, 3, 4],\n",
              " [1, 2, 3, 4, 5],\n",
              " [1, 2, 3, 4, 5, 6],\n",
              " [1, 2, 3, 4, 5, 6, 7],\n",
              " [1, 2, 3, 4, 5, 6, 7, 8],\n",
              " [1, 2, 3, 4, 5, 6, 7, 8, 9],\n",
              " [1, 2, 3, 4, 5, 6, 7, 8, 9, 10]]"
            ]
          },
          "execution_count": 17,
          "metadata": {},
          "output_type": "execute_result"
        }
      ],
      "source": [
        "training_sequences[:9]"
      ]
    },
    {
      "cell_type": "markdown",
      "metadata": {
        "id": "oM5rZG_Lj6UL"
      },
      "source": [
        "This script calculates the lengths of all training sequences and finds the maximum sequence length, which can be useful for padding or defining input size for the model."
      ]
    },
    {
      "cell_type": "code",
      "execution_count": 18,
      "metadata": {
        "colab": {
          "base_uri": "https://localhost:8080/"
        },
        "id": "n0iJKIltIvuR",
        "outputId": "970bae7a-2a52-429a-814f-d9a9814f6e89"
      },
      "outputs": [
        {
          "data": {
            "text/plain": [
              "63"
            ]
          },
          "execution_count": 18,
          "metadata": {},
          "output_type": "execute_result"
        }
      ],
      "source": [
        "len_list=[]\n",
        "for sequence in training_sequences:\n",
        "  len_list.append(len(sequence))\n",
        "\n",
        "max(len_list)"
      ]
    },
    {
      "cell_type": "markdown",
      "metadata": {
        "id": "b0RwxRnhj_Uc"
      },
      "source": [
        "This script pads the training sequences with zeros to ensure they all have the same length, based on the maximum sequence length, preparing the data for input into the model."
      ]
    },
    {
      "cell_type": "code",
      "execution_count": 19,
      "metadata": {
        "id": "mh6BdhlZJmPi"
      },
      "outputs": [],
      "source": [
        "padded_training_sequence=[]\n",
        "for sequence in training_sequences:\n",
        " padded_training_sequence.append([0]*(max(len_list)-len(sequence))+sequence)"
      ]
    },
    {
      "cell_type": "code",
      "execution_count": 20,
      "metadata": {
        "colab": {
          "base_uri": "https://localhost:8080/"
        },
        "id": "eWesUsiyJy8X",
        "outputId": "9eeda916-decb-44c7-dbb7-8ac81c318176"
      },
      "outputs": [
        {
          "data": {
            "text/plain": [
              "63"
            ]
          },
          "execution_count": 20,
          "metadata": {},
          "output_type": "execute_result"
        }
      ],
      "source": [
        "len(padded_training_sequence[100])"
      ]
    },
    {
      "cell_type": "markdown",
      "metadata": {
        "id": "5Fe8BK-vkE9c"
      },
      "source": [
        "This script converts the padded training sequences into a PyTorch tensor of type long, making it ready for training in a deep learning model."
      ]
    },
    {
      "cell_type": "code",
      "execution_count": 21,
      "metadata": {
        "id": "5ZqhOL5JK9F7"
      },
      "outputs": [],
      "source": [
        "padded_training_sequence=torch.tensor(padded_training_sequence, dtype=torch.long)"
      ]
    },
    {
      "cell_type": "code",
      "execution_count": 22,
      "metadata": {
        "colab": {
          "base_uri": "https://localhost:8080/"
        },
        "id": "LS1TN0IgLz6d",
        "outputId": "21d1fcf1-2592-4fb8-8c0e-c188f32f531f"
      },
      "outputs": [
        {
          "data": {
            "text/plain": [
              "torch.Size([3348, 63])"
            ]
          },
          "execution_count": 22,
          "metadata": {},
          "output_type": "execute_result"
        }
      ],
      "source": [
        "padded_training_sequence.shape"
      ]
    },
    {
      "cell_type": "markdown",
      "metadata": {
        "id": "7e1Ro8B9kKSG"
      },
      "source": [
        "This script splits the padded training sequences into input (x) and target (y) tensors, where x contains all tokens except the last one (input sequence), and y contains the last token (target word to predict)."
      ]
    },
    {
      "cell_type": "code",
      "execution_count": 23,
      "metadata": {
        "id": "Vwyl426rL0lq"
      },
      "outputs": [],
      "source": [
        "x=padded_training_sequence[:, :-1]\n",
        "y=padded_training_sequence[:, -1]"
      ]
    },
    {
      "cell_type": "code",
      "execution_count": 24,
      "metadata": {
        "colab": {
          "base_uri": "https://localhost:8080/"
        },
        "id": "ITQrdpBJMHc8",
        "outputId": "4a1e2b61-21f8-4d25-d9c0-e0698dfc05f2"
      },
      "outputs": [
        {
          "data": {
            "text/plain": [
              "torch.Size([3348, 62])"
            ]
          },
          "execution_count": 24,
          "metadata": {},
          "output_type": "execute_result"
        }
      ],
      "source": [
        "x.shape"
      ]
    },
    {
      "cell_type": "code",
      "execution_count": 25,
      "metadata": {
        "id": "NLz6_ZWwMIaz"
      },
      "outputs": [],
      "source": [
        "from torch.utils.data import Dataset, dataloader"
      ]
    },
    {
      "cell_type": "markdown",
      "metadata": {
        "id": "VJvYM0bKkQ0l"
      },
      "source": [
        "This script defines a custom PyTorch dataset class that stores the input (x) and target (y) sequences, enabling easy batching and access to training data during model training."
      ]
    },
    {
      "cell_type": "code",
      "execution_count": 26,
      "metadata": {
        "id": "VhL7znQLMLCk"
      },
      "outputs": [],
      "source": [
        "class CustomDataset(Dataset):\n",
        "  def __init__(self, x, y):\n",
        "    self.x=x\n",
        "    self.y=y\n",
        "  def __len__(self):\n",
        "    return self.x.shape[0]\n",
        "  def __getitem__(self, idx):\n",
        "    return self.x[idx], self.y[idx]"
      ]
    },
    {
      "cell_type": "markdown",
      "metadata": {
        "id": "HmW7i08LkWiZ"
      },
      "source": [
        "This script creates a custom dataset instance, dataset, using the input (x) and target (y) tensors, ready for use in data loading and model training."
      ]
    },
    {
      "cell_type": "code",
      "execution_count": 27,
      "metadata": {
        "id": "mJS0KNbLNhxC"
      },
      "outputs": [],
      "source": [
        "dataset=CustomDataset(x,y)"
      ]
    },
    {
      "cell_type": "code",
      "execution_count": 28,
      "metadata": {
        "colab": {
          "base_uri": "https://localhost:8080/"
        },
        "id": "sniE2A1TNzIp",
        "outputId": "227997fb-b488-4c3a-cc1f-51428ed4cfe4"
      },
      "outputs": [
        {
          "data": {
            "text/plain": [
              "3348"
            ]
          },
          "execution_count": 28,
          "metadata": {},
          "output_type": "execute_result"
        }
      ],
      "source": [
        "len(dataset)"
      ]
    },
    {
      "cell_type": "markdown",
      "metadata": {
        "id": "AQWR6wTSkd-r"
      },
      "source": [
        "This script creates a DataLoader for the custom dataset, enabling efficient batch processing and shuffling of the training data with a batch size of 32."
      ]
    },
    {
      "cell_type": "code",
      "execution_count": 29,
      "metadata": {
        "id": "Xv-5L7xWN93s"
      },
      "outputs": [],
      "source": [
        "dataloader=DataLoader(dataset=dataset, batch_size=32, shuffle=True)"
      ]
    },
    {
      "cell_type": "code",
      "execution_count": 30,
      "metadata": {
        "colab": {
          "base_uri": "https://localhost:8080/"
        },
        "id": "9w-2pI7LOBWN",
        "outputId": "6e2feb6d-cece-4121-e0a4-d3526ec0634f"
      },
      "outputs": [
        {
          "data": {
            "text/plain": [
              "(tensor([0, 0, 0, 0, 0, 0, 0, 0, 0, 0, 0, 0, 0, 0, 0, 0, 0, 0, 0, 0, 0, 0, 0, 0,\n",
              "         0, 0, 0, 0, 0, 0, 0, 0, 0, 0, 0, 0, 0, 0, 0, 0, 0, 0, 0, 0, 0, 0, 0, 0,\n",
              "         0, 0, 0, 0, 0, 0, 0, 0, 0, 0, 0, 0, 1, 2]),\n",
              " tensor(3))"
            ]
          },
          "execution_count": 30,
          "metadata": {},
          "output_type": "execute_result"
        }
      ],
      "source": [
        "dataset[1]"
      ]
    },
    {
      "cell_type": "markdown",
      "metadata": {
        "id": "MOHYqG0ZkkBG"
      },
      "source": [
        "This script defines an LSTM-based model for next-word prediction, using an embedding layer for token representation, an LSTM layer for sequence learning, and a fully connected layer for generating predictions based on the final hidden state."
      ]
    },
    {
      "cell_type": "code",
      "execution_count": 31,
      "metadata": {
        "id": "nShzHfEzOiEY"
      },
      "outputs": [],
      "source": [
        "class LSTMmodel(nn.Module):\n",
        "  def __init__(self, vocab_size):\n",
        "    super().__init__()\n",
        "    self.emmbedding=nn.Embedding(vocab_size, 100)\n",
        "    self.lstm=nn.LSTM(100, 150, batch_first=True)\n",
        "    self.fc=nn.Linear(150, vocab_size)\n",
        "\n",
        "\n",
        "  def forward(self,x):\n",
        "    embedded=self.emmbedding(x)\n",
        "    intermediate_hidden_state, (final_hidden_state, final_cell_state)=self.lstm(embedded)\n",
        "    output= self.fc(final_hidden_state.squeeze(0))\n",
        "    return output"
      ]
    },
    {
      "cell_type": "markdown",
      "metadata": {
        "id": "hAM1T3dpleNQ"
      },
      "source": [
        "This script creates an instance of the LSTM model, initializing it with the vocabulary size to ensure the model can handle the input data and output the correct word predictions."
      ]
    },
    {
      "cell_type": "code",
      "execution_count": 32,
      "metadata": {
        "id": "ZnNe6GyLU100"
      },
      "outputs": [],
      "source": [
        "model=LSTMmodel(vocab_size=len(vocab))"
      ]
    },
    {
      "cell_type": "code",
      "execution_count": 33,
      "metadata": {},
      "outputs": [
        {
          "name": "stdout",
          "output_type": "stream",
          "text": [
            "CUDA Available: True\n",
            "GPU Name: NVIDIA GeForce RTX 4060 Laptop GPU\n",
            "Device: cuda\n"
          ]
        }
      ],
      "source": [
        "import torch\n",
        "print(\"CUDA Available:\", torch.cuda.is_available())\n",
        "print(\"GPU Name:\", torch.cuda.get_device_name(0))\n",
        "print(\"Device:\", torch.device(\"cuda\" if torch.cuda.is_available() else \"cpu\"))\n"
      ]
    },
    {
      "cell_type": "markdown",
      "metadata": {
        "id": "prnubYNnloIg"
      },
      "source": [
        "This script checks if a GPU is available and sets the device to CUDA for faster training, otherwise defaults to using the CPU, and prints the selected device."
      ]
    },
    {
      "cell_type": "code",
      "execution_count": 34,
      "metadata": {
        "colab": {
          "base_uri": "https://localhost:8080/"
        },
        "id": "wBwu4b2TVfBn",
        "outputId": "77c788d8-be92-415a-98fe-bcacf35305a0"
      },
      "outputs": [
        {
          "name": "stdout",
          "output_type": "stream",
          "text": [
            "cuda\n"
          ]
        }
      ],
      "source": [
        "device= torch.device('cuda' if torch.cuda.is_available() else 'cpu')\n",
        "print(device)"
      ]
    },
    {
      "cell_type": "markdown",
      "metadata": {
        "id": "wz36cHajltW7"
      },
      "source": [
        "This script moves the model to the selected device (GPU or CPU) for training, ensuring the model operates on the appropriate hardware"
      ]
    },
    {
      "cell_type": "code",
      "execution_count": 35,
      "metadata": {
        "colab": {
          "base_uri": "https://localhost:8080/"
        },
        "id": "lItUvTn5V4zX",
        "outputId": "fd99cba0-94e2-488f-c644-7078991335cc"
      },
      "outputs": [
        {
          "data": {
            "text/plain": [
              "LSTMmodel(\n",
              "  (emmbedding): Embedding(752, 100)\n",
              "  (lstm): LSTM(100, 150, batch_first=True)\n",
              "  (fc): Linear(in_features=150, out_features=752, bias=True)\n",
              ")"
            ]
          },
          "execution_count": 35,
          "metadata": {},
          "output_type": "execute_result"
        }
      ],
      "source": [
        "model.to(device)"
      ]
    },
    {
      "cell_type": "markdown",
      "metadata": {
        "id": "H-GnidrtmDmA"
      },
      "source": [
        "This script sets the learning rate to 0.001, which controls the step size during model training to optimize the loss function."
      ]
    },
    {
      "cell_type": "code",
      "execution_count": 36,
      "metadata": {
        "id": "j0gftzg-WQ6J"
      },
      "outputs": [],
      "source": [
        "epochs=50\n",
        "learning_rate=0.001"
      ]
    },
    {
      "cell_type": "markdown",
      "metadata": {
        "id": "MQUmjD6TmKlq"
      },
      "source": [
        "This script defines the loss function as CrossEntropyLoss for multi-class classification and initializes the Adam optimizer with the model parameters and a learning rate of 0.00"
      ]
    },
    {
      "cell_type": "code",
      "execution_count": 37,
      "metadata": {
        "id": "PXOyzfu-Wp2X"
      },
      "outputs": [],
      "source": [
        "criterion=nn.CrossEntropyLoss()\n",
        "optimizer=optim.Adam(model.parameters(), lr=learning_rate)"
      ]
    },
    {
      "cell_type": "markdown",
      "metadata": {
        "id": "-6KEVkhumSo3"
      },
      "source": [
        "This script trains the LSTM model for the specified number of epochs, using the data from the DataLoader, calculating the loss, performing backpropagation, and updating the model weights using the Adam optimizer."
      ]
    },
    {
      "cell_type": "code",
      "execution_count": 38,
      "metadata": {
        "colab": {
          "base_uri": "https://localhost:8080/"
        },
        "id": "2s-cOE7PmWIu",
        "outputId": "e6f35222-5bd2-46bc-a84c-2fce0f6ace55"
      },
      "outputs": [
        {
          "name": "stdout",
          "output_type": "stream",
          "text": [
            "Epoch: 1, loss 610.3102\n",
            "Epoch: 2, loss 528.2638\n",
            "Epoch: 3, loss 481.8401\n",
            "Epoch: 4, loss 434.8520\n",
            "Epoch: 5, loss 389.8432\n",
            "Epoch: 6, loss 348.5896\n",
            "Epoch: 7, loss 309.8247\n",
            "Epoch: 8, loss 272.7964\n",
            "Epoch: 9, loss 239.1522\n",
            "Epoch: 10, loss 208.9039\n",
            "Epoch: 11, loss 182.0656\n",
            "Epoch: 12, loss 157.2233\n",
            "Epoch: 13, loss 136.0817\n",
            "Epoch: 14, loss 117.6206\n",
            "Epoch: 15, loss 102.0880\n",
            "Epoch: 16, loss 88.9078\n",
            "Epoch: 17, loss 77.6815\n",
            "Epoch: 18, loss 67.8333\n",
            "Epoch: 19, loss 59.7445\n",
            "Epoch: 20, loss 52.6372\n",
            "Epoch: 21, loss 47.1098\n",
            "Epoch: 22, loss 42.0567\n",
            "Epoch: 23, loss 38.1781\n",
            "Epoch: 24, loss 34.7053\n",
            "Epoch: 25, loss 31.8248\n",
            "Epoch: 26, loss 29.3551\n",
            "Epoch: 27, loss 27.2712\n",
            "Epoch: 28, loss 25.9398\n",
            "Epoch: 29, loss 24.1649\n",
            "Epoch: 30, loss 22.9044\n",
            "Epoch: 31, loss 22.1136\n",
            "Epoch: 32, loss 20.9556\n",
            "Epoch: 33, loss 20.0444\n",
            "Epoch: 34, loss 19.3484\n",
            "Epoch: 35, loss 18.7438\n",
            "Epoch: 36, loss 18.1094\n",
            "Epoch: 37, loss 17.7281\n",
            "Epoch: 38, loss 17.2625\n",
            "Epoch: 39, loss 16.8393\n",
            "Epoch: 40, loss 16.5399\n",
            "Epoch: 41, loss 16.4924\n",
            "Epoch: 42, loss 16.4161\n",
            "Epoch: 43, loss 15.7263\n",
            "Epoch: 44, loss 15.5007\n",
            "Epoch: 45, loss 15.2148\n",
            "Epoch: 46, loss 14.9280\n",
            "Epoch: 47, loss 14.9668\n",
            "Epoch: 48, loss 14.7563\n",
            "Epoch: 49, loss 14.4521\n",
            "Epoch: 50, loss 14.2641\n"
          ]
        }
      ],
      "source": [
        "for epoch in range(epochs):\n",
        "  total_loss=0\n",
        "  for batch_x, batch_y in dataloader:\n",
        "    batch_x, batch_y=batch_x.to(device), batch_y.to(device)\n",
        "    optimizer.zero_grad()\n",
        "    output=model(batch_x)\n",
        "    loss=criterion(output, batch_y)\n",
        "    loss.backward()\n",
        "    optimizer.step()\n",
        "    total_loss+=loss.item()\n",
        "  print(f\"Epoch: {epoch+1}, loss {total_loss:.4f}\")"
      ]
    },
    {
      "cell_type": "markdown",
      "metadata": {
        "id": "iHbguHYXmgLX"
      },
      "source": [
        "This script defines a function for predicting the next word given a text input, by tokenizing, converting to numerical indices, padding the sequence, and using the trained model to generate the next word prediction based on the highest output probability."
      ]
    },
    {
      "cell_type": "code",
      "execution_count": 39,
      "metadata": {
        "id": "IwatlWnPZLyu"
      },
      "outputs": [],
      "source": [
        "def prediction(model, vocab, text):\n",
        "  tokenized_text=word_tokenize(text.lower())\n",
        "  numerical_text=text_indices(tokenized_text, vocab)\n",
        "  padded_text=torch.tensor([0]*(23-len(numerical_text))+numerical_text, dtype=torch.long).unsqueeze(0).to(device)\n",
        "  output=model(padded_text)\n",
        "  value, index=torch.max(output, dim=1)\n",
        "  # print(list(vocab.keys())[index])\n",
        "  return text +\" \"+ list(vocab.keys())[index]\n",
        "\n",
        "\n",
        "\n"
      ]
    },
    {
      "cell_type": "code",
      "execution_count": 42,
      "metadata": {},
      "outputs": [],
      "source": [
        "torch.save(model.state_dict(), \"nextword_model.pt\")\n"
      ]
    },
    {
      "cell_type": "markdown",
      "metadata": {
        "id": "ZaPOXUYdml6d"
      },
      "source": [
        "This script predicts the next word after \"Transfer learning is a powerful AI\" by processing the input text through the trained model and returning the predicted next word from the vocabulary."
      ]
    },
    {
      "cell_type": "code",
      "execution_count": 40,
      "metadata": {
        "colab": {
          "base_uri": "https://localhost:8080/",
          "height": 36
        },
        "id": "1rGQAOBgaqzl",
        "outputId": "a64b5c2c-5414-4881-cc52-d277dfc3b704"
      },
      "outputs": [
        {
          "data": {
            "text/plain": [
              "'Hello my name is governed'"
            ]
          },
          "execution_count": 40,
          "metadata": {},
          "output_type": "execute_result"
        }
      ],
      "source": [
        "prediction(model, vocab, \"Hello my name is\")"
      ]
    },
    {
      "cell_type": "markdown",
      "metadata": {
        "id": "jj_a-cuzmtJR"
      },
      "source": [
        "This script generates a sequence of 25 predicted words starting from the input text \"Zero-shot learning\", using the model to predict the next word iteratively and appending it to the input text, with a 0.3-second delay between each prediction."
      ]
    },
    {
      "cell_type": "code",
      "execution_count": 41,
      "metadata": {
        "colab": {
          "base_uri": "https://localhost:8080/"
        },
        "id": "owxSrmM5bDkA",
        "outputId": "3b529d45-d753-4458-9905-391a83cbea11"
      },
      "outputs": [
        {
          "name": "stdout",
          "output_type": "stream",
          "text": [
            "Virat Kohli became\n",
            "Virat Kohli became the\n",
            "Virat Kohli became the first\n",
            "Virat Kohli became the first player\n",
            "Virat Kohli became the first player to\n",
            "Virat Kohli became the first player to be\n",
            "Virat Kohli became the first player to be player\n",
            "Virat Kohli became the first player to be player of\n",
            "Virat Kohli became the first player to be player of the\n",
            "Virat Kohli became the first player to be player of the tournament\n",
            "Virat Kohli became the first player to be player of the tournament in\n",
            "Virat Kohli became the first player to be player of the tournament in back\n",
            "Virat Kohli became the first player to be player of the tournament in back to\n",
            "Virat Kohli became the first player to be player of the tournament in back to back\n",
            "Virat Kohli became the first player to be player of the tournament in back to back editions\n",
            "Virat Kohli became the first player to be player of the tournament in back to back editions of\n",
            "Virat Kohli became the first player to be player of the tournament in back to back editions of a\n",
            "Virat Kohli became the first player to be player of the tournament in back to back editions of a major\n",
            "Virat Kohli became the first player to be player of the tournament in back to back editions of a major cricket\n",
            "Virat Kohli became the first player to be player of the tournament in back to back editions of a major cricket tournament\n",
            "Virat Kohli became the first player to be player of the tournament in back to back editions of a major cricket tournament with\n",
            "Virat Kohli became the first player to be player of the tournament in back to back editions of a major cricket tournament with the\n",
            "Virat Kohli became the first player to be player of the tournament in back to back editions of a major cricket tournament with the europeans\n",
            "Virat Kohli became the first player to be player of the tournament in back to back editions of a major cricket tournament with the europeans every\n",
            "Virat Kohli became the first player to be player of the tournament in back to back editions of a major cricket tournament with the europeans every year\n",
            "Virat Kohli became the first player to be player of the tournament in back to back editions of a major cricket tournament with the europeans every year the\n",
            "Virat Kohli became the first player to be player of the tournament in back to back editions of a major cricket tournament with the europeans every year the first\n",
            "Virat Kohli became the first player to be player of the tournament in back to back editions of a major cricket tournament with the europeans every year the first indian\n",
            "Virat Kohli became the first player to be player of the tournament in back to back editions of a major cricket tournament with the europeans every year the first indian cricket\n",
            "Virat Kohli became the first player to be player of the tournament in back to back editions of a major cricket tournament with the europeans every year the first indian cricket world\n"
          ]
        }
      ],
      "source": [
        "import time\n",
        "num_token=30\n",
        "input_text=\"Virat Kohli\"\n",
        "for token in range(num_token):\n",
        "  output=prediction(model, vocab, input_text)\n",
        "  print(output)\n",
        "  input_text=output\n",
        "  time.sleep(0.3)\n"
      ]
    },
    {
      "cell_type": "code",
      "execution_count": 43,
      "metadata": {
        "id": "Km2mhp5DgrOh"
      },
      "outputs": [],
      "source": [
        "import pickle\n",
        "with open(\"vocab.pkl\", \"wb\") as f:\n",
        "    pickle.dump(vocab, f)\n"
      ]
    }
  ],
  "metadata": {
    "accelerator": "GPU",
    "colab": {
      "gpuType": "T4",
      "provenance": []
    },
    "kernelspec": {
      "display_name": "base",
      "language": "python",
      "name": "python3"
    },
    "language_info": {
      "codemirror_mode": {
        "name": "ipython",
        "version": 3
      },
      "file_extension": ".py",
      "mimetype": "text/x-python",
      "name": "python",
      "nbconvert_exporter": "python",
      "pygments_lexer": "ipython3",
      "version": "3.11.7"
    }
  },
  "nbformat": 4,
  "nbformat_minor": 0
}
